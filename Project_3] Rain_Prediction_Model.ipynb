{
  "nbformat": 4,
  "nbformat_minor": 0,
  "metadata": {
    "colab": {
      "provenance": [],
      "authorship_tag": "ABX9TyMpzTpqGmXKAK/jnO3bvRnX",
      "include_colab_link": true
    },
    "kernelspec": {
      "name": "python3",
      "display_name": "Python 3"
    },
    "language_info": {
      "name": "python"
    }
  },
  "cells": [
    {
      "cell_type": "markdown",
      "metadata": {
        "id": "view-in-github",
        "colab_type": "text"
      },
      "source": [
        "<a href=\"https://colab.research.google.com/github/farzan2002/Machine_Learning_Project/blob/main/Project_3%5D%20Rain_Prediction_Model.ipynb\" target=\"_parent\"><img src=\"https://colab.research.google.com/assets/colab-badge.svg\" alt=\"Open In Colab\"/></a>"
      ]
    },
    {
      "cell_type": "code",
      "execution_count": 53,
      "metadata": {
        "id": "yzQ1Z_13WkPt"
      },
      "outputs": [],
      "source": [
        "import numpy as np\n",
        "import pandas as pd\n",
        "import matplotlib.pyplot as plt\n",
        "import seaborn as sn\n",
        "from sklearn.linear_model import LogisticRegression\n",
        "from sklearn.metrics import accuracy_score"
      ]
    },
    {
      "cell_type": "code",
      "source": [
        "# 1] Loading the Dataset into Pandas DataFrame\n",
        "\n",
        "weather_df = pd.read_csv('weather.csv')"
      ],
      "metadata": {
        "id": "QF_7KuHnbU4q"
      },
      "execution_count": 54,
      "outputs": []
    },
    {
      "cell_type": "code",
      "source": [
        "weather_df"
      ],
      "metadata": {
        "colab": {
          "base_uri": "https://localhost:8080/",
          "height": 600
        },
        "id": "HBSq-6UqdLku",
        "outputId": "82a3dec5-8c18-46bf-ed50-50d1ef53f86c"
      },
      "execution_count": 55,
      "outputs": [
        {
          "output_type": "execute_result",
          "data": {
            "text/plain": [
              "       date  min_temp  max_temp  rainfall wind_speed9am wind_speed3pm  \\\n",
              "0     38718        64        81       0.0           8.0          14.0   \n",
              "1     38719        57        79       0.0           9.0          10.0   \n",
              "2     38720        49        79       0.0           0.0          10.0   \n",
              "3     38721        52        76       0.0           7.0           7.0   \n",
              "4     38722        51        69       0.0          16.0          23.0   \n",
              "...     ...       ...       ...       ...           ...           ...   \n",
              "3646  44557        68        81       0.0           5.0          16.0   \n",
              "3647  44558        72        84       0.0          14.0          15.0   \n",
              "3648  44559        72        84       0.0           9.0          12.0   \n",
              "3649  44560        67        83       0.0           8.0           9.0   \n",
              "3650  44561        73        85       0.0          10.0          17.0   \n",
              "\n",
              "     humidity9am humidity3pm pressure9am pressure3pm       cloud9am  \\\n",
              "0           90.0        54.0       29.77       29.65         Cloudy   \n",
              "1           87.0        22.0       29.91       29.89  Partly Cloudy   \n",
              "2           60.0        24.0       30.07       29.98           Fair   \n",
              "3           87.0        60.0       30.06       29.97  Mostly Cloudy   \n",
              "4           42.0        21.0        30.2       30.13           Fair   \n",
              "...          ...         ...         ...         ...            ...   \n",
              "3646        87.0        58.0       29.89       29.79  Mostly Cloudy   \n",
              "3647        74.0        53.0       29.71       29.63           Fair   \n",
              "3648        85.0        56.0       29.72       29.67  Mostly Cloudy   \n",
              "3649        84.0        58.0       29.86       29.79           Haze   \n",
              "3650        87.0        58.0       29.82       29.71  Partly Cloudy   \n",
              "\n",
              "           cloud3pm temp9am temp3pm rain_today rain_tomorrow  \n",
              "0     Partly Cloudy    71.0    81.0         No            No  \n",
              "1              Fair    63.0    78.0         No            No  \n",
              "2              Fair    60.0    79.0         No            No  \n",
              "3     Mostly Cloudy    65.0    75.0         No            No  \n",
              "4      Fair / Windy    57.0    68.0         No            No  \n",
              "...             ...     ...     ...        ...           ...  \n",
              "3646         Cloudy    71.0    80.0         No            No  \n",
              "3647  Mostly Cloudy    76.0    84.0         No            No  \n",
              "3648  Mostly Cloudy    76.0    84.0         No            No  \n",
              "3649  Partly Cloudy    73.0    83.0         No            No  \n",
              "3650  Partly Cloudy    75.0    83.0         No            No  \n",
              "\n",
              "[3651 rows x 16 columns]"
            ],
            "text/html": [
              "\n",
              "  <div id=\"df-2e8ad94f-d0f7-42a9-afd3-3f9f13618ef3\" class=\"colab-df-container\">\n",
              "    <div>\n",
              "<style scoped>\n",
              "    .dataframe tbody tr th:only-of-type {\n",
              "        vertical-align: middle;\n",
              "    }\n",
              "\n",
              "    .dataframe tbody tr th {\n",
              "        vertical-align: top;\n",
              "    }\n",
              "\n",
              "    .dataframe thead th {\n",
              "        text-align: right;\n",
              "    }\n",
              "</style>\n",
              "<table border=\"1\" class=\"dataframe\">\n",
              "  <thead>\n",
              "    <tr style=\"text-align: right;\">\n",
              "      <th></th>\n",
              "      <th>date</th>\n",
              "      <th>min_temp</th>\n",
              "      <th>max_temp</th>\n",
              "      <th>rainfall</th>\n",
              "      <th>wind_speed9am</th>\n",
              "      <th>wind_speed3pm</th>\n",
              "      <th>humidity9am</th>\n",
              "      <th>humidity3pm</th>\n",
              "      <th>pressure9am</th>\n",
              "      <th>pressure3pm</th>\n",
              "      <th>cloud9am</th>\n",
              "      <th>cloud3pm</th>\n",
              "      <th>temp9am</th>\n",
              "      <th>temp3pm</th>\n",
              "      <th>rain_today</th>\n",
              "      <th>rain_tomorrow</th>\n",
              "    </tr>\n",
              "  </thead>\n",
              "  <tbody>\n",
              "    <tr>\n",
              "      <th>0</th>\n",
              "      <td>38718</td>\n",
              "      <td>64</td>\n",
              "      <td>81</td>\n",
              "      <td>0.0</td>\n",
              "      <td>8.0</td>\n",
              "      <td>14.0</td>\n",
              "      <td>90.0</td>\n",
              "      <td>54.0</td>\n",
              "      <td>29.77</td>\n",
              "      <td>29.65</td>\n",
              "      <td>Cloudy</td>\n",
              "      <td>Partly Cloudy</td>\n",
              "      <td>71.0</td>\n",
              "      <td>81.0</td>\n",
              "      <td>No</td>\n",
              "      <td>No</td>\n",
              "    </tr>\n",
              "    <tr>\n",
              "      <th>1</th>\n",
              "      <td>38719</td>\n",
              "      <td>57</td>\n",
              "      <td>79</td>\n",
              "      <td>0.0</td>\n",
              "      <td>9.0</td>\n",
              "      <td>10.0</td>\n",
              "      <td>87.0</td>\n",
              "      <td>22.0</td>\n",
              "      <td>29.91</td>\n",
              "      <td>29.89</td>\n",
              "      <td>Partly Cloudy</td>\n",
              "      <td>Fair</td>\n",
              "      <td>63.0</td>\n",
              "      <td>78.0</td>\n",
              "      <td>No</td>\n",
              "      <td>No</td>\n",
              "    </tr>\n",
              "    <tr>\n",
              "      <th>2</th>\n",
              "      <td>38720</td>\n",
              "      <td>49</td>\n",
              "      <td>79</td>\n",
              "      <td>0.0</td>\n",
              "      <td>0.0</td>\n",
              "      <td>10.0</td>\n",
              "      <td>60.0</td>\n",
              "      <td>24.0</td>\n",
              "      <td>30.07</td>\n",
              "      <td>29.98</td>\n",
              "      <td>Fair</td>\n",
              "      <td>Fair</td>\n",
              "      <td>60.0</td>\n",
              "      <td>79.0</td>\n",
              "      <td>No</td>\n",
              "      <td>No</td>\n",
              "    </tr>\n",
              "    <tr>\n",
              "      <th>3</th>\n",
              "      <td>38721</td>\n",
              "      <td>52</td>\n",
              "      <td>76</td>\n",
              "      <td>0.0</td>\n",
              "      <td>7.0</td>\n",
              "      <td>7.0</td>\n",
              "      <td>87.0</td>\n",
              "      <td>60.0</td>\n",
              "      <td>30.06</td>\n",
              "      <td>29.97</td>\n",
              "      <td>Mostly Cloudy</td>\n",
              "      <td>Mostly Cloudy</td>\n",
              "      <td>65.0</td>\n",
              "      <td>75.0</td>\n",
              "      <td>No</td>\n",
              "      <td>No</td>\n",
              "    </tr>\n",
              "    <tr>\n",
              "      <th>4</th>\n",
              "      <td>38722</td>\n",
              "      <td>51</td>\n",
              "      <td>69</td>\n",
              "      <td>0.0</td>\n",
              "      <td>16.0</td>\n",
              "      <td>23.0</td>\n",
              "      <td>42.0</td>\n",
              "      <td>21.0</td>\n",
              "      <td>30.2</td>\n",
              "      <td>30.13</td>\n",
              "      <td>Fair</td>\n",
              "      <td>Fair / Windy</td>\n",
              "      <td>57.0</td>\n",
              "      <td>68.0</td>\n",
              "      <td>No</td>\n",
              "      <td>No</td>\n",
              "    </tr>\n",
              "    <tr>\n",
              "      <th>...</th>\n",
              "      <td>...</td>\n",
              "      <td>...</td>\n",
              "      <td>...</td>\n",
              "      <td>...</td>\n",
              "      <td>...</td>\n",
              "      <td>...</td>\n",
              "      <td>...</td>\n",
              "      <td>...</td>\n",
              "      <td>...</td>\n",
              "      <td>...</td>\n",
              "      <td>...</td>\n",
              "      <td>...</td>\n",
              "      <td>...</td>\n",
              "      <td>...</td>\n",
              "      <td>...</td>\n",
              "      <td>...</td>\n",
              "    </tr>\n",
              "    <tr>\n",
              "      <th>3646</th>\n",
              "      <td>44557</td>\n",
              "      <td>68</td>\n",
              "      <td>81</td>\n",
              "      <td>0.0</td>\n",
              "      <td>5.0</td>\n",
              "      <td>16.0</td>\n",
              "      <td>87.0</td>\n",
              "      <td>58.0</td>\n",
              "      <td>29.89</td>\n",
              "      <td>29.79</td>\n",
              "      <td>Mostly Cloudy</td>\n",
              "      <td>Cloudy</td>\n",
              "      <td>71.0</td>\n",
              "      <td>80.0</td>\n",
              "      <td>No</td>\n",
              "      <td>No</td>\n",
              "    </tr>\n",
              "    <tr>\n",
              "      <th>3647</th>\n",
              "      <td>44558</td>\n",
              "      <td>72</td>\n",
              "      <td>84</td>\n",
              "      <td>0.0</td>\n",
              "      <td>14.0</td>\n",
              "      <td>15.0</td>\n",
              "      <td>74.0</td>\n",
              "      <td>53.0</td>\n",
              "      <td>29.71</td>\n",
              "      <td>29.63</td>\n",
              "      <td>Fair</td>\n",
              "      <td>Mostly Cloudy</td>\n",
              "      <td>76.0</td>\n",
              "      <td>84.0</td>\n",
              "      <td>No</td>\n",
              "      <td>No</td>\n",
              "    </tr>\n",
              "    <tr>\n",
              "      <th>3648</th>\n",
              "      <td>44559</td>\n",
              "      <td>72</td>\n",
              "      <td>84</td>\n",
              "      <td>0.0</td>\n",
              "      <td>9.0</td>\n",
              "      <td>12.0</td>\n",
              "      <td>85.0</td>\n",
              "      <td>56.0</td>\n",
              "      <td>29.72</td>\n",
              "      <td>29.67</td>\n",
              "      <td>Mostly Cloudy</td>\n",
              "      <td>Mostly Cloudy</td>\n",
              "      <td>76.0</td>\n",
              "      <td>84.0</td>\n",
              "      <td>No</td>\n",
              "      <td>No</td>\n",
              "    </tr>\n",
              "    <tr>\n",
              "      <th>3649</th>\n",
              "      <td>44560</td>\n",
              "      <td>67</td>\n",
              "      <td>83</td>\n",
              "      <td>0.0</td>\n",
              "      <td>8.0</td>\n",
              "      <td>9.0</td>\n",
              "      <td>84.0</td>\n",
              "      <td>58.0</td>\n",
              "      <td>29.86</td>\n",
              "      <td>29.79</td>\n",
              "      <td>Haze</td>\n",
              "      <td>Partly Cloudy</td>\n",
              "      <td>73.0</td>\n",
              "      <td>83.0</td>\n",
              "      <td>No</td>\n",
              "      <td>No</td>\n",
              "    </tr>\n",
              "    <tr>\n",
              "      <th>3650</th>\n",
              "      <td>44561</td>\n",
              "      <td>73</td>\n",
              "      <td>85</td>\n",
              "      <td>0.0</td>\n",
              "      <td>10.0</td>\n",
              "      <td>17.0</td>\n",
              "      <td>87.0</td>\n",
              "      <td>58.0</td>\n",
              "      <td>29.82</td>\n",
              "      <td>29.71</td>\n",
              "      <td>Partly Cloudy</td>\n",
              "      <td>Partly Cloudy</td>\n",
              "      <td>75.0</td>\n",
              "      <td>83.0</td>\n",
              "      <td>No</td>\n",
              "      <td>No</td>\n",
              "    </tr>\n",
              "  </tbody>\n",
              "</table>\n",
              "<p>3651 rows × 16 columns</p>\n",
              "</div>\n",
              "    <div class=\"colab-df-buttons\">\n",
              "\n",
              "  <div class=\"colab-df-container\">\n",
              "    <button class=\"colab-df-convert\" onclick=\"convertToInteractive('df-2e8ad94f-d0f7-42a9-afd3-3f9f13618ef3')\"\n",
              "            title=\"Convert this dataframe to an interactive table.\"\n",
              "            style=\"display:none;\">\n",
              "\n",
              "  <svg xmlns=\"http://www.w3.org/2000/svg\" height=\"24px\" viewBox=\"0 -960 960 960\">\n",
              "    <path d=\"M120-120v-720h720v720H120Zm60-500h600v-160H180v160Zm220 220h160v-160H400v160Zm0 220h160v-160H400v160ZM180-400h160v-160H180v160Zm440 0h160v-160H620v160ZM180-180h160v-160H180v160Zm440 0h160v-160H620v160Z\"/>\n",
              "  </svg>\n",
              "    </button>\n",
              "\n",
              "  <style>\n",
              "    .colab-df-container {\n",
              "      display:flex;\n",
              "      gap: 12px;\n",
              "    }\n",
              "\n",
              "    .colab-df-convert {\n",
              "      background-color: #E8F0FE;\n",
              "      border: none;\n",
              "      border-radius: 50%;\n",
              "      cursor: pointer;\n",
              "      display: none;\n",
              "      fill: #1967D2;\n",
              "      height: 32px;\n",
              "      padding: 0 0 0 0;\n",
              "      width: 32px;\n",
              "    }\n",
              "\n",
              "    .colab-df-convert:hover {\n",
              "      background-color: #E2EBFA;\n",
              "      box-shadow: 0px 1px 2px rgba(60, 64, 67, 0.3), 0px 1px 3px 1px rgba(60, 64, 67, 0.15);\n",
              "      fill: #174EA6;\n",
              "    }\n",
              "\n",
              "    .colab-df-buttons div {\n",
              "      margin-bottom: 4px;\n",
              "    }\n",
              "\n",
              "    [theme=dark] .colab-df-convert {\n",
              "      background-color: #3B4455;\n",
              "      fill: #D2E3FC;\n",
              "    }\n",
              "\n",
              "    [theme=dark] .colab-df-convert:hover {\n",
              "      background-color: #434B5C;\n",
              "      box-shadow: 0px 1px 3px 1px rgba(0, 0, 0, 0.15);\n",
              "      filter: drop-shadow(0px 1px 2px rgba(0, 0, 0, 0.3));\n",
              "      fill: #FFFFFF;\n",
              "    }\n",
              "  </style>\n",
              "\n",
              "    <script>\n",
              "      const buttonEl =\n",
              "        document.querySelector('#df-2e8ad94f-d0f7-42a9-afd3-3f9f13618ef3 button.colab-df-convert');\n",
              "      buttonEl.style.display =\n",
              "        google.colab.kernel.accessAllowed ? 'block' : 'none';\n",
              "\n",
              "      async function convertToInteractive(key) {\n",
              "        const element = document.querySelector('#df-2e8ad94f-d0f7-42a9-afd3-3f9f13618ef3');\n",
              "        const dataTable =\n",
              "          await google.colab.kernel.invokeFunction('convertToInteractive',\n",
              "                                                    [key], {});\n",
              "        if (!dataTable) return;\n",
              "\n",
              "        const docLinkHtml = 'Like what you see? Visit the ' +\n",
              "          '<a target=\"_blank\" href=https://colab.research.google.com/notebooks/data_table.ipynb>data table notebook</a>'\n",
              "          + ' to learn more about interactive tables.';\n",
              "        element.innerHTML = '';\n",
              "        dataTable['output_type'] = 'display_data';\n",
              "        await google.colab.output.renderOutput(dataTable, element);\n",
              "        const docLink = document.createElement('div');\n",
              "        docLink.innerHTML = docLinkHtml;\n",
              "        element.appendChild(docLink);\n",
              "      }\n",
              "    </script>\n",
              "  </div>\n",
              "\n",
              "\n",
              "<div id=\"df-24caa6fe-242d-4714-b163-b39e40f98e90\">\n",
              "  <button class=\"colab-df-quickchart\" onclick=\"quickchart('df-24caa6fe-242d-4714-b163-b39e40f98e90')\"\n",
              "            title=\"Suggest charts\"\n",
              "            style=\"display:none;\">\n",
              "\n",
              "<svg xmlns=\"http://www.w3.org/2000/svg\" height=\"24px\"viewBox=\"0 0 24 24\"\n",
              "     width=\"24px\">\n",
              "    <g>\n",
              "        <path d=\"M19 3H5c-1.1 0-2 .9-2 2v14c0 1.1.9 2 2 2h14c1.1 0 2-.9 2-2V5c0-1.1-.9-2-2-2zM9 17H7v-7h2v7zm4 0h-2V7h2v10zm4 0h-2v-4h2v4z\"/>\n",
              "    </g>\n",
              "</svg>\n",
              "  </button>\n",
              "\n",
              "<style>\n",
              "  .colab-df-quickchart {\n",
              "      --bg-color: #E8F0FE;\n",
              "      --fill-color: #1967D2;\n",
              "      --hover-bg-color: #E2EBFA;\n",
              "      --hover-fill-color: #174EA6;\n",
              "      --disabled-fill-color: #AAA;\n",
              "      --disabled-bg-color: #DDD;\n",
              "  }\n",
              "\n",
              "  [theme=dark] .colab-df-quickchart {\n",
              "      --bg-color: #3B4455;\n",
              "      --fill-color: #D2E3FC;\n",
              "      --hover-bg-color: #434B5C;\n",
              "      --hover-fill-color: #FFFFFF;\n",
              "      --disabled-bg-color: #3B4455;\n",
              "      --disabled-fill-color: #666;\n",
              "  }\n",
              "\n",
              "  .colab-df-quickchart {\n",
              "    background-color: var(--bg-color);\n",
              "    border: none;\n",
              "    border-radius: 50%;\n",
              "    cursor: pointer;\n",
              "    display: none;\n",
              "    fill: var(--fill-color);\n",
              "    height: 32px;\n",
              "    padding: 0;\n",
              "    width: 32px;\n",
              "  }\n",
              "\n",
              "  .colab-df-quickchart:hover {\n",
              "    background-color: var(--hover-bg-color);\n",
              "    box-shadow: 0 1px 2px rgba(60, 64, 67, 0.3), 0 1px 3px 1px rgba(60, 64, 67, 0.15);\n",
              "    fill: var(--button-hover-fill-color);\n",
              "  }\n",
              "\n",
              "  .colab-df-quickchart-complete:disabled,\n",
              "  .colab-df-quickchart-complete:disabled:hover {\n",
              "    background-color: var(--disabled-bg-color);\n",
              "    fill: var(--disabled-fill-color);\n",
              "    box-shadow: none;\n",
              "  }\n",
              "\n",
              "  .colab-df-spinner {\n",
              "    border: 2px solid var(--fill-color);\n",
              "    border-color: transparent;\n",
              "    border-bottom-color: var(--fill-color);\n",
              "    animation:\n",
              "      spin 1s steps(1) infinite;\n",
              "  }\n",
              "\n",
              "  @keyframes spin {\n",
              "    0% {\n",
              "      border-color: transparent;\n",
              "      border-bottom-color: var(--fill-color);\n",
              "      border-left-color: var(--fill-color);\n",
              "    }\n",
              "    20% {\n",
              "      border-color: transparent;\n",
              "      border-left-color: var(--fill-color);\n",
              "      border-top-color: var(--fill-color);\n",
              "    }\n",
              "    30% {\n",
              "      border-color: transparent;\n",
              "      border-left-color: var(--fill-color);\n",
              "      border-top-color: var(--fill-color);\n",
              "      border-right-color: var(--fill-color);\n",
              "    }\n",
              "    40% {\n",
              "      border-color: transparent;\n",
              "      border-right-color: var(--fill-color);\n",
              "      border-top-color: var(--fill-color);\n",
              "    }\n",
              "    60% {\n",
              "      border-color: transparent;\n",
              "      border-right-color: var(--fill-color);\n",
              "    }\n",
              "    80% {\n",
              "      border-color: transparent;\n",
              "      border-right-color: var(--fill-color);\n",
              "      border-bottom-color: var(--fill-color);\n",
              "    }\n",
              "    90% {\n",
              "      border-color: transparent;\n",
              "      border-bottom-color: var(--fill-color);\n",
              "    }\n",
              "  }\n",
              "</style>\n",
              "\n",
              "  <script>\n",
              "    async function quickchart(key) {\n",
              "      const quickchartButtonEl =\n",
              "        document.querySelector('#' + key + ' button');\n",
              "      quickchartButtonEl.disabled = true;  // To prevent multiple clicks.\n",
              "      quickchartButtonEl.classList.add('colab-df-spinner');\n",
              "      try {\n",
              "        const charts = await google.colab.kernel.invokeFunction(\n",
              "            'suggestCharts', [key], {});\n",
              "      } catch (error) {\n",
              "        console.error('Error during call to suggestCharts:', error);\n",
              "      }\n",
              "      quickchartButtonEl.classList.remove('colab-df-spinner');\n",
              "      quickchartButtonEl.classList.add('colab-df-quickchart-complete');\n",
              "    }\n",
              "    (() => {\n",
              "      let quickchartButtonEl =\n",
              "        document.querySelector('#df-24caa6fe-242d-4714-b163-b39e40f98e90 button');\n",
              "      quickchartButtonEl.style.display =\n",
              "        google.colab.kernel.accessAllowed ? 'block' : 'none';\n",
              "    })();\n",
              "  </script>\n",
              "</div>\n",
              "    </div>\n",
              "  </div>\n"
            ]
          },
          "metadata": {},
          "execution_count": 55
        }
      ]
    },
    {
      "cell_type": "markdown",
      "source": [
        "# **Drop Unwanted Columns**"
      ],
      "metadata": {
        "id": "DNt-SxZ_dbnV"
      }
    },
    {
      "cell_type": "code",
      "source": [
        "weather_df.drop('date',axis=1,inplace=True)"
      ],
      "metadata": {
        "id": "aOM6BoYbdTDW"
      },
      "execution_count": 56,
      "outputs": []
    },
    {
      "cell_type": "code",
      "source": [
        "weather_df.drop('cloud9am',axis=1,inplace=True)"
      ],
      "metadata": {
        "id": "NSP3oDDLdqcb"
      },
      "execution_count": 57,
      "outputs": []
    },
    {
      "cell_type": "code",
      "source": [
        "weather_df.drop('cloud3pm',axis=1,inplace=True)"
      ],
      "metadata": {
        "id": "gvoglXu7duOC"
      },
      "execution_count": 58,
      "outputs": []
    },
    {
      "cell_type": "markdown",
      "source": [
        "# **Checking Unique Values**"
      ],
      "metadata": {
        "id": "m_AYfNekePdo"
      }
    },
    {
      "cell_type": "code",
      "source": [
        "# Reading the column names\n",
        "\n",
        "weather_df.columns"
      ],
      "metadata": {
        "colab": {
          "base_uri": "https://localhost:8080/"
        },
        "id": "4QefKHt7eamF",
        "outputId": "c7f608ea-8a73-42f7-ed5a-a31ddb5ace4a"
      },
      "execution_count": 59,
      "outputs": [
        {
          "output_type": "execute_result",
          "data": {
            "text/plain": [
              "Index(['min_temp', 'max_temp', 'rainfall', 'wind_speed9am', 'wind_speed3pm',\n",
              "       'humidity9am', 'humidity3pm', 'pressure9am', 'pressure3pm', 'temp9am',\n",
              "       'temp3pm', 'rain_today', 'rain_tomorrow'],\n",
              "      dtype='object')"
            ]
          },
          "metadata": {},
          "execution_count": 59
        }
      ]
    },
    {
      "cell_type": "code",
      "source": [
        "weather_df['min_temp'].unique()"
      ],
      "metadata": {
        "colab": {
          "base_uri": "https://localhost:8080/"
        },
        "id": "XkUt9aO2dyzI",
        "outputId": "a12ada7e-6668-4cb7-cdc2-5601891fc1b0"
      },
      "execution_count": 60,
      "outputs": [
        {
          "output_type": "execute_result",
          "data": {
            "text/plain": [
              "array([64, 57, 49, 52, 51, 43, 38, 54, 58, 36, 56, 40, 47, 41, 60, 55, 50,\n",
              "       53, 62, 45, 42, 46, 39, 44, 30, 59, 66, 37, 61, 72, 63, 68, 70, 69,\n",
              "       73, 65, 71, 75, 67, 76, 77, 74, 78, 79, 80, 81, 48, 34, 35, 32,  0,\n",
              "       33, 31, 26, 22, 27, 28, 24, 82, 83, 25, 29, 20, 18, 15])"
            ]
          },
          "metadata": {},
          "execution_count": 60
        }
      ]
    },
    {
      "cell_type": "code",
      "source": [
        "weather_df['max_temp'].unique()"
      ],
      "metadata": {
        "colab": {
          "base_uri": "https://localhost:8080/"
        },
        "id": "WHhk_qOweWxl",
        "outputId": "e5ab235f-a199-45c8-cc8c-e801960c99fa"
      },
      "execution_count": 61,
      "outputs": [
        {
          "output_type": "execute_result",
          "data": {
            "text/plain": [
              "array([ 81,  79,  76,  69,  63,  74,  75,  78,  65,  68,  70,  66,  72,\n",
              "        57,  71,  64,  58,  67,  73,  52,  60,  59,  50,  39,  55,  61,\n",
              "        77,  80,  83,  82,  54,  86,  89,  84,  85,  87,  88,  90,  91,\n",
              "        92,  94,  98,  95,  93,  97,  62,  56,  47,  53,  48,  49,  33,\n",
              "        42,  43,  51,  46,  44,  41,  96,  99,  37,  36,  34, 101, 100,\n",
              "       102, 106,  45, 104,  38,  40, 103,  27])"
            ]
          },
          "metadata": {},
          "execution_count": 61
        }
      ]
    },
    {
      "cell_type": "code",
      "source": [
        "weather_df['rainfall'].unique()"
      ],
      "metadata": {
        "colab": {
          "base_uri": "https://localhost:8080/"
        },
        "id": "cWsK7qhSesZD",
        "outputId": "88b083a5-1a9b-4801-9eed-b8aec83023ae"
      },
      "execution_count": 62,
      "outputs": [
        {
          "output_type": "execute_result",
          "data": {
            "text/plain": [
              "array([ 0. ,  1.3,  0.1,  0.9,  1.5,  0.6,  1. ,  0.2,  0.3,  1.7,  0.8,\n",
              "        1.2,  2.6,  1.6,  1.4,  8.6,  2.4, 15. ,  0.4,  2.9,  2.2,  6.5,\n",
              "        0.7,  1.9,  5.8, 20.6,  2.8,  1.1,  0.5,  5.9,  2.7,  1.8,  3. ,\n",
              "        9.9, 12.5,  3.5,  2. ,  3.8,  7.9, 10.2,  4. ,  5.6,  2.5,  8.9,\n",
              "        5.2,  4.7,  3.3,  5.1,  2.3,  4.4,  3.7,  3.2,  4.3,  3.6,  3.4,\n",
              "        4.6, 18.8,  5.5,  3.1,  6.4,  7.8,  2.1,  5.3,  7. ,  6.7,  4.5,\n",
              "        5.7,  3.9,  4.9,  5. ,  6. , 11.8,  4.8, 10.9,  4.2,  7.2, 18.2,\n",
              "        6.8, 12.4,  4.1,  6.3,  9.4, 11.1,  5.4])"
            ]
          },
          "metadata": {},
          "execution_count": 62
        }
      ]
    },
    {
      "cell_type": "code",
      "source": [
        "weather_df['wind_speed9am'].unique()"
      ],
      "metadata": {
        "colab": {
          "base_uri": "https://localhost:8080/"
        },
        "id": "Hh_leGIUeysW",
        "outputId": "868f12a5-44d3-4ebb-f810-313b8ce112f9"
      },
      "execution_count": 63,
      "outputs": [
        {
          "output_type": "execute_result",
          "data": {
            "text/plain": [
              "array(['8.0', '9.0', '0.0', '7.0', '16.0', '14.0', '5.0', '20.0', '21.0',\n",
              "       '6.0', '23.0', '12.0', 'Blank', '10.0', '13.0', '3.0', '17.0',\n",
              "       '15.0', '18.0', '29.0', '22.0', '26.0', '20', '14', '7', '0', '3',\n",
              "       '16', '9', '30', '5', '13', '12', '10', '22', '8', '18', '17', '6',\n",
              "       '15', '21', nan, '23', '24.0'], dtype=object)"
            ]
          },
          "metadata": {},
          "execution_count": 63
        }
      ]
    },
    {
      "cell_type": "code",
      "source": [
        "weather_df['wind_speed3pm'].unique()"
      ],
      "metadata": {
        "colab": {
          "base_uri": "https://localhost:8080/"
        },
        "id": "BrBnOK50e_7I",
        "outputId": "506593d4-1996-46dd-891d-d0bcd314b5eb"
      },
      "execution_count": 64,
      "outputs": [
        {
          "output_type": "execute_result",
          "data": {
            "text/plain": [
              "array(['14.0', '10.0', '7.0', '23.0', '12.0', '16.0', '15.0', '9.0',\n",
              "       '13.0', '21.0', '5.0', '30.0', '17.0', '20.0', '26.0', '18.0',\n",
              "       '8.0', '0.0', '24.0', 'Blank', '6.0', '3.0', '22.0', '31.0',\n",
              "       '29.0', '16', '9', '10', '7', '14', '13', '5', '6', '12', '3',\n",
              "       '15', '8', '18', '21', '0', '17', '23', '20', '25', '29', nan,\n",
              "       '22', '24', '26', '25.0', '28.0'], dtype=object)"
            ]
          },
          "metadata": {},
          "execution_count": 64
        }
      ]
    },
    {
      "cell_type": "code",
      "source": [
        "weather_df['humidity9am'].unique()"
      ],
      "metadata": {
        "colab": {
          "base_uri": "https://localhost:8080/"
        },
        "id": "C6RXlfFffY_U",
        "outputId": "fc3c0d13-bbd3-4d85-8d5a-824c5c08b5be"
      },
      "execution_count": 65,
      "outputs": [
        {
          "output_type": "execute_result",
          "data": {
            "text/plain": [
              "array(['90.0', '87.0', '60.0', '42.0', '37.0', '52.0', '80.0', '54.0',\n",
              "       '68.0', '39.0', '38.0', '69.0', '81.0', '48.0', '61.0', '75.0',\n",
              "       'Blank', '97.0', '83.0', '57.0', '10.0', '47.0', '84.0', '96.0',\n",
              "       '66.0', '62.0', '41.0', '59.0', '72.0', '53.0', '33.0', '67.0',\n",
              "       '78.0', '86.0', '89.0', '74.0', '51.0', '93.0', '70.0', '79.0',\n",
              "       '58.0', '85.0', '82.0', '36.0', '50.0', '43.0', '76.0', '63.0',\n",
              "       '73.0', '71.0', '77.0', '65.0', '44.0', '56.0', '88.0', '45.0',\n",
              "       '55.0', '91.0', '94.0', '49.0', '64.0', '35.0', '46.0', '40.0',\n",
              "       '16.0', '20.0', '92.0', '24.0', '31.0', '30.0', '34.0', '29.0',\n",
              "       '39', '38', '42', '86', '75', '90', '93', '96', '87', '80', '63',\n",
              "       '48', '49', '66', '81', '54', '77', '53', '65', '64', '83', '94',\n",
              "       '71', '68', '69', '74', '62', '46', '78', '31', '40', '57', '10',\n",
              "       '91', '84', '47', '45', '72', '73', '89', '76', '82', '79', '70',\n",
              "       '59', '61', '60', '58', '52', '56', '67', '55', '44', '51', nan,\n",
              "       '85', '92', '37', '97', '50', '41', '21.0', '32.0', '23.0', '34',\n",
              "       '28', '88', '27.0', '28.0'], dtype=object)"
            ]
          },
          "metadata": {},
          "execution_count": 65
        }
      ]
    },
    {
      "cell_type": "code",
      "source": [
        "weather_df['humidity3pm'].unique()"
      ],
      "metadata": {
        "colab": {
          "base_uri": "https://localhost:8080/"
        },
        "id": "VTp9mTFNfeS6",
        "outputId": "cab19e6a-d3e7-45fe-cccb-284a7827e440"
      },
      "execution_count": 66,
      "outputs": [
        {
          "output_type": "execute_result",
          "data": {
            "text/plain": [
              "array(['54.0', '22.0', '24.0', '60.0', '21.0', '20.0', '50.0', '55.0',\n",
              "       '36.0', '35.0', '73.0', '17.0', '16.0', '19.0', '25.0', '29.0',\n",
              "       '57.0', '78.0', '44.0', '93.0', '74.0', '32.0', '62.0', '72.0',\n",
              "       '84.0', '30.0', '94.0', '27.0', '48.0', '41.0', '28.0', '52.0',\n",
              "       '18.0', '64.0', '90.0', '81.0', '79.0', '67.0', '87.0', '66.0',\n",
              "       '37.0', '42.0', '47.0', '61.0', '69.0', '14.0', '71.0', 'Blank',\n",
              "       '65.0', '58.0', '26.0', '59.0', '56.0', '51.0', '38.0', '53.0',\n",
              "       '63.0', '46.0', '23.0', '40.0', '49.0', '77.0', '89.0', '43.0',\n",
              "       '45.0', '34.0', '82.0', '39.0', '85.0', '88.0', '33.0', '31.0',\n",
              "       '70.0', '86.0', '68.0', '80.0', '76.0', '83.0', '11.0', '96.0',\n",
              "       '75.0', '22', '24', '57', '73', '33', '29', '23', '83', '76', '40',\n",
              "       '64', '72', '87', '70', '86', '44', '31', '62', '90', '41', '28',\n",
              "       '25', '21', '61', '66', '68', '53', '39', '50', '82', '47', '20',\n",
              "       '30', '59', '54', '60', '69', '71', '15', '27', '56', '48', '35',\n",
              "       '51', '75', '52', '46', '34', '63', '74', '16', '77', '10', '13',\n",
              "       '45', '65', '58', '9', '36', '37', '55', '32', '42', '43', '49',\n",
              "       '85', '79', '38', '26', '67', '17', '14', '18', nan, '91', '12',\n",
              "       '97', '78', '93', '81', '94', '84', '19', '89', '88', '12.0',\n",
              "       '91.0', '97.0', '96', '80', '92.0', '10.0'], dtype=object)"
            ]
          },
          "metadata": {},
          "execution_count": 66
        }
      ]
    },
    {
      "cell_type": "code",
      "source": [
        "weather_df['pressure9am'].unique()"
      ],
      "metadata": {
        "colab": {
          "base_uri": "https://localhost:8080/"
        },
        "id": "ezBY8S77fmX5",
        "outputId": "5d430dad-19ee-47f5-85eb-44589a2f259c"
      },
      "execution_count": 67,
      "outputs": [
        {
          "output_type": "execute_result",
          "data": {
            "text/plain": [
              "array(['29.77', '29.91', '30.07', '30.06', '30.2', '30.32', '30.18',\n",
              "       '29.98', '30.26', '30.15', '29.94', '30.13', '30.33', '29.73',\n",
              "       '29.97', '30.08', 'Blank', '30.01', '30.14', '30.25', '30.4',\n",
              "       '30.38', '30.3', '30.02', '29.96', '29.88', '29.81', '29.61',\n",
              "       '29.64', '30.12', '29.99', '30.27', '30.36', '30.43', '30.39',\n",
              "       '30.11', '29.95', '30.35', '30.16', '30.03', '29.87', '30.41',\n",
              "       '30.21', '30.17', '29.57', '29.72', '29.78', '29.86', '30.09',\n",
              "       '29.8', '29.56', '30.31', '30.1', '30.05', '29.82', '29.75',\n",
              "       '29.9', '30.04', '29.85', '29.92', '29.71', '29.76', '29.83',\n",
              "       '29.74', '29.69', '29.89', '29.93', '30.0', '29.84', '29.46',\n",
              "       '29.7', '30.29', '30.19', '30.37', '29.63', '30.44', '30.47',\n",
              "       '30.34', '30.48', '30.66', '30.45', '30.24', '30.52', '30.55',\n",
              "       '30.65', '30.5', '29.59', '29.65', '30.28', '30.22', '29.79',\n",
              "       '29.52', '29.66', '30.46', '30.23', '30.72', '30.63', '30.49',\n",
              "       '29.6', '29.62', '29.55', '30.62', '30.57', '30', '29.67', nan,\n",
              "       '30.51', '30.59', '30.42', '30.6', '30.56', '30.54', '30.7',\n",
              "       '29.53', '29.68'], dtype=object)"
            ]
          },
          "metadata": {},
          "execution_count": 67
        }
      ]
    },
    {
      "cell_type": "code",
      "source": [
        "weather_df['pressure3pm'].unique()"
      ],
      "metadata": {
        "colab": {
          "base_uri": "https://localhost:8080/"
        },
        "id": "nSuXHcgSfpJO",
        "outputId": "6b74448f-c5e8-4d30-9d73-00a64dfc13bb"
      },
      "execution_count": 68,
      "outputs": [
        {
          "output_type": "execute_result",
          "data": {
            "text/plain": [
              "array(['29.65', '29.89', '29.98', '29.97', '30.13', '30.19', '30.01',\n",
              "       '29.91', '29.9', '30.14', '30.02', '29.83', '30.11', '30.21',\n",
              "       '30.04', '29.58', '29.93', '30.12', '30.09', '30.34', '29.88',\n",
              "       '29.81', '29.52', '29.72', '30.03', '30.08', '30.27', '30.16',\n",
              "       '29.76', '30.28', '30.25', '30.26', '29.92', '30.24', '30.06',\n",
              "       '30.05', '29.99', '30.36', '29.96', '29.7', '29.63', '29.75',\n",
              "       '29.86', 'Blank', '30.07', '29.68', '29.56', '30.17', '30.0',\n",
              "       '29.94', '29.64', '29.95', '29.79', '29.73', '29.71', '29.77',\n",
              "       '29.82', '29.85', '29.8', '29.67', '29.87', '29.78', '29.84',\n",
              "       '29.62', '29.39', '30.1', '29.74', '30.15', '30.4', '30.44',\n",
              "       '30.49', '30.29', '30.43', '30.54', '30.37', '30.31', '30.35',\n",
              "       '30.22', '30.45', '30.57', '30.38', '29.57', '29.43', '29.6',\n",
              "       '30.23', '29.69', '29.51', '29.48', '29.66', '29.59', '30.2',\n",
              "       '30.3', '30.18', '30.58', '30.51', '29.61', '29.45', '29.55', nan,\n",
              "       '30', '30.32', '30.52', '30.33', '29.49', '30.41', '30.39',\n",
              "       '30.46', '30.47', '30.42', '29.5', '29.47', '30.55', '30.59'],\n",
              "      dtype=object)"
            ]
          },
          "metadata": {},
          "execution_count": 68
        }
      ]
    },
    {
      "cell_type": "code",
      "source": [
        "weather_df['temp9am'].unique()"
      ],
      "metadata": {
        "colab": {
          "base_uri": "https://localhost:8080/"
        },
        "id": "l0MST9zUfqIn",
        "outputId": "2ac2f49b-4333-4b60-8e04-5c128f1125ba"
      },
      "execution_count": 69,
      "outputs": [
        {
          "output_type": "execute_result",
          "data": {
            "text/plain": [
              "array(['71.0', '63.0', '60.0', '65.0', '57.0', '52.0', '50.0', '62.0',\n",
              "       '64.0', '51.0', '48.0', '56.0', '67.0', '49.0', '69.0', 'Blank',\n",
              "       '58.0', '55.0', '53.0', '54.0', '59.0', '66.0', '46.0', '38.0',\n",
              "       '47.0', '68.0', '44.0', '37.0', '40.0', '72.0', '70.0', '74.0',\n",
              "       '75.0', '73.0', '76.0', '61.0', '78.0', '77.0', '80.0', '79.0',\n",
              "       '82.0', '81.0', '84.0', '85.0', '83.0', '88.0', '86.0', '87.0',\n",
              "       '39.0', '41.0', '35.0', '42.0', '43.0', '27.0', '31.0', '45.0',\n",
              "       '36.0', '89.0', '25.0', '32.0', '29.0', '28.0', '90.0', '92.0',\n",
              "       '59', '50', '45', '54', '61', '64', '63', '66', '70', '47', '51',\n",
              "       '42', '52', '67', '72', '46', '69', '71', '65', '56', '55', '68',\n",
              "       '48', '60', '53', '49', '41', '36', '58', '62', '73', '57', '75',\n",
              "       '74', '79', '80', '76', '78', '81', '82', '77', '84', '83', '85',\n",
              "       '87', '86', '88', '89', '92', '94', '90', nan, '43', '40', '91.0',\n",
              "       '33.0', '30.0', '34.0', '32', '29', '28', '39', '34', '37', '38',\n",
              "       '31', '22', '44', '19.0'], dtype=object)"
            ]
          },
          "metadata": {},
          "execution_count": 69
        }
      ]
    },
    {
      "cell_type": "code",
      "source": [
        "weather_df['temp3pm'].unique()"
      ],
      "metadata": {
        "colab": {
          "base_uri": "https://localhost:8080/"
        },
        "id": "5Tgx9OgwfrgY",
        "outputId": "30d2d746-33ca-434a-a57b-749ec7481f36"
      },
      "execution_count": 70,
      "outputs": [
        {
          "output_type": "execute_result",
          "data": {
            "text/plain": [
              "array(['81.0', '78.0', '79.0', '75.0', '68.0', '63.0', '77.0', '70.0',\n",
              "       '61.0', '73.0', '67.0', '66.0', '74.0', '72.0', '57.0', '71.0',\n",
              "       '59.0', '58.0', '56.0', '64.0', '69.0', '65.0', '52.0', '54.0',\n",
              "       '43.0', '39.0', '55.0', '76.0', '80.0', 'Blank', '82.0', '60.0',\n",
              "       '85.0', '88.0', '83.0', '84.0', '87.0', '89.0', '90.0', '86.0',\n",
              "       '91.0', '92.0', '93.0', '97.0', '95.0', '94.0', '62.0', '40.0',\n",
              "       '46.0', '51.0', '48.0', '33.0', '41.0', '50.0', '42.0', '45.0',\n",
              "       '96.0', '98.0', '53.0', '65', '58', '60', '67', '73', '68', '72',\n",
              "       '66', '51', '46', '50', '47', '41', '54', '63', '61', '62', '48',\n",
              "       '59', '74', '71', '42', '37', '36', '33', '35', '53', '75', '77',\n",
              "       '76', '79', '80', '81', '70', '84', '86', '83', '87', '82', '78',\n",
              "       '85', '93', '89', '91', '88', '92', '97', '95', '90', '94', '10',\n",
              "       '96', '98', '99', nan, '64', '69', '56', '43', '55', '57', '52',\n",
              "       '44.0', '49.0', '47.0', '99.0', '10.0', '38.0', '36.0', '31.0',\n",
              "       '45', '38', '49', '44', '40', '39', '27', '35.0', '25.0'],\n",
              "      dtype=object)"
            ]
          },
          "metadata": {},
          "execution_count": 70
        }
      ]
    },
    {
      "cell_type": "code",
      "source": [
        "weather_df['rain_today'].unique()"
      ],
      "metadata": {
        "colab": {
          "base_uri": "https://localhost:8080/"
        },
        "id": "B7RZZy4ufram",
        "outputId": "1c69da60-bb83-4158-c6fc-923ca5ad0c95"
      },
      "execution_count": 71,
      "outputs": [
        {
          "output_type": "execute_result",
          "data": {
            "text/plain": [
              "array(['No', 'Yes'], dtype=object)"
            ]
          },
          "metadata": {},
          "execution_count": 71
        }
      ]
    },
    {
      "cell_type": "code",
      "source": [
        "weather_df['rain_tomorrow'].unique()"
      ],
      "metadata": {
        "colab": {
          "base_uri": "https://localhost:8080/"
        },
        "id": "EUXP7MZdfsSR",
        "outputId": "dc532a2f-24ec-44b3-ebff-86cf29157076"
      },
      "execution_count": 72,
      "outputs": [
        {
          "output_type": "execute_result",
          "data": {
            "text/plain": [
              "array(['No', 'Yes'], dtype=object)"
            ]
          },
          "metadata": {},
          "execution_count": 72
        }
      ]
    },
    {
      "cell_type": "code",
      "source": [
        "# Checking Null values in each column\n",
        "\n",
        "weather_df.isnull().sum()"
      ],
      "metadata": {
        "colab": {
          "base_uri": "https://localhost:8080/"
        },
        "id": "e55_S75EgwRO",
        "outputId": "f7bb86a0-ceda-4fb7-a330-577e2b188aef"
      },
      "execution_count": 101,
      "outputs": [
        {
          "output_type": "execute_result",
          "data": {
            "text/plain": [
              "min_temp         0\n",
              "max_temp         0\n",
              "rainfall         0\n",
              "wind_speed9am    0\n",
              "wind_speed3pm    0\n",
              "humidity9am      0\n",
              "humidity3pm      0\n",
              "pressure9am      0\n",
              "pressure3pm      0\n",
              "temp9am          0\n",
              "temp3pm          0\n",
              "rain_today       0\n",
              "rain_tomorrow    0\n",
              "dtype: int64"
            ]
          },
          "metadata": {},
          "execution_count": 101
        }
      ]
    },
    {
      "cell_type": "code",
      "source": [
        "weather_df.describe()"
      ],
      "metadata": {
        "colab": {
          "base_uri": "https://localhost:8080/",
          "height": 300
        },
        "id": "e1wOtSMvKFna",
        "outputId": "04e8bc8d-af65-42f5-e682-7c122f23bd9b"
      },
      "execution_count": 74,
      "outputs": [
        {
          "output_type": "execute_result",
          "data": {
            "text/plain": [
              "          min_temp     max_temp     rainfall\n",
              "count  3651.000000  3651.000000  3651.000000\n",
              "mean     62.750753    79.459600     0.286552\n",
              "std      14.194454    12.912528     1.166239\n",
              "min       0.000000    27.000000     0.000000\n",
              "25%      52.000000    71.000000     0.000000\n",
              "50%      66.000000    82.000000     0.000000\n",
              "75%      75.000000    90.000000     0.000000\n",
              "max      83.000000   106.000000    20.600000"
            ],
            "text/html": [
              "\n",
              "  <div id=\"df-2ccc1196-373f-4299-8ac9-5680b5bc9b9f\" class=\"colab-df-container\">\n",
              "    <div>\n",
              "<style scoped>\n",
              "    .dataframe tbody tr th:only-of-type {\n",
              "        vertical-align: middle;\n",
              "    }\n",
              "\n",
              "    .dataframe tbody tr th {\n",
              "        vertical-align: top;\n",
              "    }\n",
              "\n",
              "    .dataframe thead th {\n",
              "        text-align: right;\n",
              "    }\n",
              "</style>\n",
              "<table border=\"1\" class=\"dataframe\">\n",
              "  <thead>\n",
              "    <tr style=\"text-align: right;\">\n",
              "      <th></th>\n",
              "      <th>min_temp</th>\n",
              "      <th>max_temp</th>\n",
              "      <th>rainfall</th>\n",
              "    </tr>\n",
              "  </thead>\n",
              "  <tbody>\n",
              "    <tr>\n",
              "      <th>count</th>\n",
              "      <td>3651.000000</td>\n",
              "      <td>3651.000000</td>\n",
              "      <td>3651.000000</td>\n",
              "    </tr>\n",
              "    <tr>\n",
              "      <th>mean</th>\n",
              "      <td>62.750753</td>\n",
              "      <td>79.459600</td>\n",
              "      <td>0.286552</td>\n",
              "    </tr>\n",
              "    <tr>\n",
              "      <th>std</th>\n",
              "      <td>14.194454</td>\n",
              "      <td>12.912528</td>\n",
              "      <td>1.166239</td>\n",
              "    </tr>\n",
              "    <tr>\n",
              "      <th>min</th>\n",
              "      <td>0.000000</td>\n",
              "      <td>27.000000</td>\n",
              "      <td>0.000000</td>\n",
              "    </tr>\n",
              "    <tr>\n",
              "      <th>25%</th>\n",
              "      <td>52.000000</td>\n",
              "      <td>71.000000</td>\n",
              "      <td>0.000000</td>\n",
              "    </tr>\n",
              "    <tr>\n",
              "      <th>50%</th>\n",
              "      <td>66.000000</td>\n",
              "      <td>82.000000</td>\n",
              "      <td>0.000000</td>\n",
              "    </tr>\n",
              "    <tr>\n",
              "      <th>75%</th>\n",
              "      <td>75.000000</td>\n",
              "      <td>90.000000</td>\n",
              "      <td>0.000000</td>\n",
              "    </tr>\n",
              "    <tr>\n",
              "      <th>max</th>\n",
              "      <td>83.000000</td>\n",
              "      <td>106.000000</td>\n",
              "      <td>20.600000</td>\n",
              "    </tr>\n",
              "  </tbody>\n",
              "</table>\n",
              "</div>\n",
              "    <div class=\"colab-df-buttons\">\n",
              "\n",
              "  <div class=\"colab-df-container\">\n",
              "    <button class=\"colab-df-convert\" onclick=\"convertToInteractive('df-2ccc1196-373f-4299-8ac9-5680b5bc9b9f')\"\n",
              "            title=\"Convert this dataframe to an interactive table.\"\n",
              "            style=\"display:none;\">\n",
              "\n",
              "  <svg xmlns=\"http://www.w3.org/2000/svg\" height=\"24px\" viewBox=\"0 -960 960 960\">\n",
              "    <path d=\"M120-120v-720h720v720H120Zm60-500h600v-160H180v160Zm220 220h160v-160H400v160Zm0 220h160v-160H400v160ZM180-400h160v-160H180v160Zm440 0h160v-160H620v160ZM180-180h160v-160H180v160Zm440 0h160v-160H620v160Z\"/>\n",
              "  </svg>\n",
              "    </button>\n",
              "\n",
              "  <style>\n",
              "    .colab-df-container {\n",
              "      display:flex;\n",
              "      gap: 12px;\n",
              "    }\n",
              "\n",
              "    .colab-df-convert {\n",
              "      background-color: #E8F0FE;\n",
              "      border: none;\n",
              "      border-radius: 50%;\n",
              "      cursor: pointer;\n",
              "      display: none;\n",
              "      fill: #1967D2;\n",
              "      height: 32px;\n",
              "      padding: 0 0 0 0;\n",
              "      width: 32px;\n",
              "    }\n",
              "\n",
              "    .colab-df-convert:hover {\n",
              "      background-color: #E2EBFA;\n",
              "      box-shadow: 0px 1px 2px rgba(60, 64, 67, 0.3), 0px 1px 3px 1px rgba(60, 64, 67, 0.15);\n",
              "      fill: #174EA6;\n",
              "    }\n",
              "\n",
              "    .colab-df-buttons div {\n",
              "      margin-bottom: 4px;\n",
              "    }\n",
              "\n",
              "    [theme=dark] .colab-df-convert {\n",
              "      background-color: #3B4455;\n",
              "      fill: #D2E3FC;\n",
              "    }\n",
              "\n",
              "    [theme=dark] .colab-df-convert:hover {\n",
              "      background-color: #434B5C;\n",
              "      box-shadow: 0px 1px 3px 1px rgba(0, 0, 0, 0.15);\n",
              "      filter: drop-shadow(0px 1px 2px rgba(0, 0, 0, 0.3));\n",
              "      fill: #FFFFFF;\n",
              "    }\n",
              "  </style>\n",
              "\n",
              "    <script>\n",
              "      const buttonEl =\n",
              "        document.querySelector('#df-2ccc1196-373f-4299-8ac9-5680b5bc9b9f button.colab-df-convert');\n",
              "      buttonEl.style.display =\n",
              "        google.colab.kernel.accessAllowed ? 'block' : 'none';\n",
              "\n",
              "      async function convertToInteractive(key) {\n",
              "        const element = document.querySelector('#df-2ccc1196-373f-4299-8ac9-5680b5bc9b9f');\n",
              "        const dataTable =\n",
              "          await google.colab.kernel.invokeFunction('convertToInteractive',\n",
              "                                                    [key], {});\n",
              "        if (!dataTable) return;\n",
              "\n",
              "        const docLinkHtml = 'Like what you see? Visit the ' +\n",
              "          '<a target=\"_blank\" href=https://colab.research.google.com/notebooks/data_table.ipynb>data table notebook</a>'\n",
              "          + ' to learn more about interactive tables.';\n",
              "        element.innerHTML = '';\n",
              "        dataTable['output_type'] = 'display_data';\n",
              "        await google.colab.output.renderOutput(dataTable, element);\n",
              "        const docLink = document.createElement('div');\n",
              "        docLink.innerHTML = docLinkHtml;\n",
              "        element.appendChild(docLink);\n",
              "      }\n",
              "    </script>\n",
              "  </div>\n",
              "\n",
              "\n",
              "<div id=\"df-3d009b01-80d1-45c3-a936-8a5b39285743\">\n",
              "  <button class=\"colab-df-quickchart\" onclick=\"quickchart('df-3d009b01-80d1-45c3-a936-8a5b39285743')\"\n",
              "            title=\"Suggest charts\"\n",
              "            style=\"display:none;\">\n",
              "\n",
              "<svg xmlns=\"http://www.w3.org/2000/svg\" height=\"24px\"viewBox=\"0 0 24 24\"\n",
              "     width=\"24px\">\n",
              "    <g>\n",
              "        <path d=\"M19 3H5c-1.1 0-2 .9-2 2v14c0 1.1.9 2 2 2h14c1.1 0 2-.9 2-2V5c0-1.1-.9-2-2-2zM9 17H7v-7h2v7zm4 0h-2V7h2v10zm4 0h-2v-4h2v4z\"/>\n",
              "    </g>\n",
              "</svg>\n",
              "  </button>\n",
              "\n",
              "<style>\n",
              "  .colab-df-quickchart {\n",
              "      --bg-color: #E8F0FE;\n",
              "      --fill-color: #1967D2;\n",
              "      --hover-bg-color: #E2EBFA;\n",
              "      --hover-fill-color: #174EA6;\n",
              "      --disabled-fill-color: #AAA;\n",
              "      --disabled-bg-color: #DDD;\n",
              "  }\n",
              "\n",
              "  [theme=dark] .colab-df-quickchart {\n",
              "      --bg-color: #3B4455;\n",
              "      --fill-color: #D2E3FC;\n",
              "      --hover-bg-color: #434B5C;\n",
              "      --hover-fill-color: #FFFFFF;\n",
              "      --disabled-bg-color: #3B4455;\n",
              "      --disabled-fill-color: #666;\n",
              "  }\n",
              "\n",
              "  .colab-df-quickchart {\n",
              "    background-color: var(--bg-color);\n",
              "    border: none;\n",
              "    border-radius: 50%;\n",
              "    cursor: pointer;\n",
              "    display: none;\n",
              "    fill: var(--fill-color);\n",
              "    height: 32px;\n",
              "    padding: 0;\n",
              "    width: 32px;\n",
              "  }\n",
              "\n",
              "  .colab-df-quickchart:hover {\n",
              "    background-color: var(--hover-bg-color);\n",
              "    box-shadow: 0 1px 2px rgba(60, 64, 67, 0.3), 0 1px 3px 1px rgba(60, 64, 67, 0.15);\n",
              "    fill: var(--button-hover-fill-color);\n",
              "  }\n",
              "\n",
              "  .colab-df-quickchart-complete:disabled,\n",
              "  .colab-df-quickchart-complete:disabled:hover {\n",
              "    background-color: var(--disabled-bg-color);\n",
              "    fill: var(--disabled-fill-color);\n",
              "    box-shadow: none;\n",
              "  }\n",
              "\n",
              "  .colab-df-spinner {\n",
              "    border: 2px solid var(--fill-color);\n",
              "    border-color: transparent;\n",
              "    border-bottom-color: var(--fill-color);\n",
              "    animation:\n",
              "      spin 1s steps(1) infinite;\n",
              "  }\n",
              "\n",
              "  @keyframes spin {\n",
              "    0% {\n",
              "      border-color: transparent;\n",
              "      border-bottom-color: var(--fill-color);\n",
              "      border-left-color: var(--fill-color);\n",
              "    }\n",
              "    20% {\n",
              "      border-color: transparent;\n",
              "      border-left-color: var(--fill-color);\n",
              "      border-top-color: var(--fill-color);\n",
              "    }\n",
              "    30% {\n",
              "      border-color: transparent;\n",
              "      border-left-color: var(--fill-color);\n",
              "      border-top-color: var(--fill-color);\n",
              "      border-right-color: var(--fill-color);\n",
              "    }\n",
              "    40% {\n",
              "      border-color: transparent;\n",
              "      border-right-color: var(--fill-color);\n",
              "      border-top-color: var(--fill-color);\n",
              "    }\n",
              "    60% {\n",
              "      border-color: transparent;\n",
              "      border-right-color: var(--fill-color);\n",
              "    }\n",
              "    80% {\n",
              "      border-color: transparent;\n",
              "      border-right-color: var(--fill-color);\n",
              "      border-bottom-color: var(--fill-color);\n",
              "    }\n",
              "    90% {\n",
              "      border-color: transparent;\n",
              "      border-bottom-color: var(--fill-color);\n",
              "    }\n",
              "  }\n",
              "</style>\n",
              "\n",
              "  <script>\n",
              "    async function quickchart(key) {\n",
              "      const quickchartButtonEl =\n",
              "        document.querySelector('#' + key + ' button');\n",
              "      quickchartButtonEl.disabled = true;  // To prevent multiple clicks.\n",
              "      quickchartButtonEl.classList.add('colab-df-spinner');\n",
              "      try {\n",
              "        const charts = await google.colab.kernel.invokeFunction(\n",
              "            'suggestCharts', [key], {});\n",
              "      } catch (error) {\n",
              "        console.error('Error during call to suggestCharts:', error);\n",
              "      }\n",
              "      quickchartButtonEl.classList.remove('colab-df-spinner');\n",
              "      quickchartButtonEl.classList.add('colab-df-quickchart-complete');\n",
              "    }\n",
              "    (() => {\n",
              "      let quickchartButtonEl =\n",
              "        document.querySelector('#df-3d009b01-80d1-45c3-a936-8a5b39285743 button');\n",
              "      quickchartButtonEl.style.display =\n",
              "        google.colab.kernel.accessAllowed ? 'block' : 'none';\n",
              "    })();\n",
              "  </script>\n",
              "</div>\n",
              "    </div>\n",
              "  </div>\n"
            ]
          },
          "metadata": {},
          "execution_count": 74
        }
      ]
    },
    {
      "cell_type": "markdown",
      "source": [
        "# **Removing \"Blank\" Values from the Data Frame**"
      ],
      "metadata": {
        "id": "RG7-fQYhNEgd"
      }
    },
    {
      "cell_type": "code",
      "source": [
        "weather_df = weather_df[weather_df['wind_speed9am'] != 'Blank']\n",
        "weather_df = weather_df[weather_df['wind_speed3pm'] != 'Blank']\n",
        "weather_df = weather_df[weather_df['humidity9am'] != 'Blank']\n",
        "weather_df = weather_df[weather_df['humidity3pm'] != 'Blank']\n",
        "weather_df = weather_df[weather_df['pressure9am'] != 'Blank']\n",
        "weather_df = weather_df[weather_df['pressure3pm'] != 'Blank']\n",
        "weather_df = weather_df[weather_df['temp9am'] != 'Blank']\n",
        "weather_df = weather_df[weather_df['temp3pm'] != 'Blank']"
      ],
      "metadata": {
        "id": "aU0JRlW5ittn"
      },
      "execution_count": 75,
      "outputs": []
    },
    {
      "cell_type": "markdown",
      "source": [
        "Converting the Data Type of the Columns to Float"
      ],
      "metadata": {
        "id": "TJmby_IvNQ3f"
      }
    },
    {
      "cell_type": "code",
      "source": [
        "columns_to_convert = ['wind_speed9am', 'wind_speed3pm','humidity9am', 'humidity3pm', 'pressure9am', 'pressure3pm', 'temp9am','temp3pm']\n",
        "weather_df[columns_to_convert] = weather_df[columns_to_convert].astype(float)"
      ],
      "metadata": {
        "id": "XdEMIozSjv8j"
      },
      "execution_count": 76,
      "outputs": []
    },
    {
      "cell_type": "markdown",
      "source": [
        "# **Replacing the Null Values with Mean of the Columns**"
      ],
      "metadata": {
        "id": "2V59daOXNXyg"
      }
    },
    {
      "cell_type": "code",
      "source": [
        "weather_df['wind_speed9am'] = weather_df['wind_speed9am'].fillna(weather_df['wind_speed9am'].mean())\n",
        "weather_df['wind_speed3pm'] = weather_df['wind_speed3pm'].fillna(weather_df['wind_speed3pm'].mean())\n",
        "weather_df['humidity9am'] = weather_df['humidity9am'].fillna(weather_df['humidity9am'].mean())\n",
        "weather_df['humidity3pm'] = weather_df['humidity3pm'].fillna(weather_df['humidity3pm'].mean())\n",
        "weather_df['pressure9am'] = weather_df['pressure9am'].fillna(weather_df['pressure9am'].mean())\n",
        "weather_df['pressure3pm'] = weather_df['pressure3pm'].fillna(weather_df['pressure3pm'].mean())\n",
        "weather_df['temp9am'] = weather_df['temp9am'].fillna(weather_df['temp9am'].mean())\n",
        "weather_df['temp3pm'] = weather_df['temp3pm'].fillna(weather_df['temp3pm'].mean())"
      ],
      "metadata": {
        "id": "WFr-0GMwMSR7"
      },
      "execution_count": 77,
      "outputs": []
    },
    {
      "cell_type": "markdown",
      "source": [
        "# **Replacing \"Yes\" & \"No\" to \"1\" & \"0\" Respectively**"
      ],
      "metadata": {
        "id": "hyFMg8BQNgE8"
      }
    },
    {
      "cell_type": "code",
      "source": [
        "weather_df['rain_today'] = weather_df['rain_today'].replace({'Yes': 1, 'No': 0})"
      ],
      "metadata": {
        "id": "etf09H80kNHT"
      },
      "execution_count": 78,
      "outputs": []
    },
    {
      "cell_type": "code",
      "source": [
        "weather_df['rain_tomorrow'] = weather_df['rain_tomorrow'].replace({'Yes': 1, 'No': 0})"
      ],
      "metadata": {
        "id": "E0puPka2kmaD"
      },
      "execution_count": 79,
      "outputs": []
    },
    {
      "cell_type": "code",
      "source": [
        "weather_df.info()"
      ],
      "metadata": {
        "colab": {
          "base_uri": "https://localhost:8080/"
        },
        "id": "FoVUrbMlkxpY",
        "outputId": "bda55c6b-1844-4abb-c220-846e0923e33e"
      },
      "execution_count": 80,
      "outputs": [
        {
          "output_type": "stream",
          "name": "stdout",
          "text": [
            "<class 'pandas.core.frame.DataFrame'>\n",
            "Int64Index: 3621 entries, 0 to 3650\n",
            "Data columns (total 13 columns):\n",
            " #   Column         Non-Null Count  Dtype  \n",
            "---  ------         --------------  -----  \n",
            " 0   min_temp       3621 non-null   int64  \n",
            " 1   max_temp       3621 non-null   int64  \n",
            " 2   rainfall       3621 non-null   float64\n",
            " 3   wind_speed9am  3621 non-null   float64\n",
            " 4   wind_speed3pm  3621 non-null   float64\n",
            " 5   humidity9am    3621 non-null   float64\n",
            " 6   humidity3pm    3621 non-null   float64\n",
            " 7   pressure9am    3621 non-null   float64\n",
            " 8   pressure3pm    3621 non-null   float64\n",
            " 9   temp9am        3621 non-null   float64\n",
            " 10  temp3pm        3621 non-null   float64\n",
            " 11  rain_today     3621 non-null   int64  \n",
            " 12  rain_tomorrow  3621 non-null   int64  \n",
            "dtypes: float64(9), int64(4)\n",
            "memory usage: 396.0 KB\n"
          ]
        }
      ]
    },
    {
      "cell_type": "markdown",
      "source": [
        "# **Standard Scaling**"
      ],
      "metadata": {
        "id": "Ab_hH8bwpPxn"
      }
    },
    {
      "cell_type": "code",
      "source": [
        "from sklearn.preprocessing import StandardScaler\n",
        "scaler = StandardScaler()"
      ],
      "metadata": {
        "id": "vgCeN8alkzmW"
      },
      "execution_count": 81,
      "outputs": []
    },
    {
      "cell_type": "code",
      "source": [
        "scaler.fit(weather_df.drop('rain_tomorrow', axis=1))"
      ],
      "metadata": {
        "colab": {
          "base_uri": "https://localhost:8080/",
          "height": 74
        },
        "id": "H4oawx2smUJa",
        "outputId": "6b36c346-68cd-4617-b1cb-fe6ee4430aec"
      },
      "execution_count": 82,
      "outputs": [
        {
          "output_type": "execute_result",
          "data": {
            "text/plain": [
              "StandardScaler()"
            ],
            "text/html": [
              "<style>#sk-container-id-3 {color: black;background-color: white;}#sk-container-id-3 pre{padding: 0;}#sk-container-id-3 div.sk-toggleable {background-color: white;}#sk-container-id-3 label.sk-toggleable__label {cursor: pointer;display: block;width: 100%;margin-bottom: 0;padding: 0.3em;box-sizing: border-box;text-align: center;}#sk-container-id-3 label.sk-toggleable__label-arrow:before {content: \"▸\";float: left;margin-right: 0.25em;color: #696969;}#sk-container-id-3 label.sk-toggleable__label-arrow:hover:before {color: black;}#sk-container-id-3 div.sk-estimator:hover label.sk-toggleable__label-arrow:before {color: black;}#sk-container-id-3 div.sk-toggleable__content {max-height: 0;max-width: 0;overflow: hidden;text-align: left;background-color: #f0f8ff;}#sk-container-id-3 div.sk-toggleable__content pre {margin: 0.2em;color: black;border-radius: 0.25em;background-color: #f0f8ff;}#sk-container-id-3 input.sk-toggleable__control:checked~div.sk-toggleable__content {max-height: 200px;max-width: 100%;overflow: auto;}#sk-container-id-3 input.sk-toggleable__control:checked~label.sk-toggleable__label-arrow:before {content: \"▾\";}#sk-container-id-3 div.sk-estimator input.sk-toggleable__control:checked~label.sk-toggleable__label {background-color: #d4ebff;}#sk-container-id-3 div.sk-label input.sk-toggleable__control:checked~label.sk-toggleable__label {background-color: #d4ebff;}#sk-container-id-3 input.sk-hidden--visually {border: 0;clip: rect(1px 1px 1px 1px);clip: rect(1px, 1px, 1px, 1px);height: 1px;margin: -1px;overflow: hidden;padding: 0;position: absolute;width: 1px;}#sk-container-id-3 div.sk-estimator {font-family: monospace;background-color: #f0f8ff;border: 1px dotted black;border-radius: 0.25em;box-sizing: border-box;margin-bottom: 0.5em;}#sk-container-id-3 div.sk-estimator:hover {background-color: #d4ebff;}#sk-container-id-3 div.sk-parallel-item::after {content: \"\";width: 100%;border-bottom: 1px solid gray;flex-grow: 1;}#sk-container-id-3 div.sk-label:hover label.sk-toggleable__label {background-color: #d4ebff;}#sk-container-id-3 div.sk-serial::before {content: \"\";position: absolute;border-left: 1px solid gray;box-sizing: border-box;top: 0;bottom: 0;left: 50%;z-index: 0;}#sk-container-id-3 div.sk-serial {display: flex;flex-direction: column;align-items: center;background-color: white;padding-right: 0.2em;padding-left: 0.2em;position: relative;}#sk-container-id-3 div.sk-item {position: relative;z-index: 1;}#sk-container-id-3 div.sk-parallel {display: flex;align-items: stretch;justify-content: center;background-color: white;position: relative;}#sk-container-id-3 div.sk-item::before, #sk-container-id-3 div.sk-parallel-item::before {content: \"\";position: absolute;border-left: 1px solid gray;box-sizing: border-box;top: 0;bottom: 0;left: 50%;z-index: -1;}#sk-container-id-3 div.sk-parallel-item {display: flex;flex-direction: column;z-index: 1;position: relative;background-color: white;}#sk-container-id-3 div.sk-parallel-item:first-child::after {align-self: flex-end;width: 50%;}#sk-container-id-3 div.sk-parallel-item:last-child::after {align-self: flex-start;width: 50%;}#sk-container-id-3 div.sk-parallel-item:only-child::after {width: 0;}#sk-container-id-3 div.sk-dashed-wrapped {border: 1px dashed gray;margin: 0 0.4em 0.5em 0.4em;box-sizing: border-box;padding-bottom: 0.4em;background-color: white;}#sk-container-id-3 div.sk-label label {font-family: monospace;font-weight: bold;display: inline-block;line-height: 1.2em;}#sk-container-id-3 div.sk-label-container {text-align: center;}#sk-container-id-3 div.sk-container {/* jupyter's `normalize.less` sets `[hidden] { display: none; }` but bootstrap.min.css set `[hidden] { display: none !important; }` so we also need the `!important` here to be able to override the default hidden behavior on the sphinx rendered scikit-learn.org. See: https://github.com/scikit-learn/scikit-learn/issues/21755 */display: inline-block !important;position: relative;}#sk-container-id-3 div.sk-text-repr-fallback {display: none;}</style><div id=\"sk-container-id-3\" class=\"sk-top-container\"><div class=\"sk-text-repr-fallback\"><pre>StandardScaler()</pre><b>In a Jupyter environment, please rerun this cell to show the HTML representation or trust the notebook. <br />On GitHub, the HTML representation is unable to render, please try loading this page with nbviewer.org.</b></div><div class=\"sk-container\" hidden><div class=\"sk-item\"><div class=\"sk-estimator sk-toggleable\"><input class=\"sk-toggleable__control sk-hidden--visually\" id=\"sk-estimator-id-3\" type=\"checkbox\" checked><label for=\"sk-estimator-id-3\" class=\"sk-toggleable__label sk-toggleable__label-arrow\">StandardScaler</label><div class=\"sk-toggleable__content\"><pre>StandardScaler()</pre></div></div></div></div></div>"
            ]
          },
          "metadata": {},
          "execution_count": 82
        }
      ]
    },
    {
      "cell_type": "code",
      "source": [
        "scaled_features = scaler.transform(weather_df.drop('rain_tomorrow', axis=1))"
      ],
      "metadata": {
        "id": "MLL4t-wXmlMK"
      },
      "execution_count": 83,
      "outputs": []
    },
    {
      "cell_type": "code",
      "source": [
        "scaled_features"
      ],
      "metadata": {
        "colab": {
          "base_uri": "https://localhost:8080/"
        },
        "id": "f5SMFY8bm2PO",
        "outputId": "5427d285-8efe-4d17-df59-b9ab220ecf8b"
      },
      "execution_count": 84,
      "outputs": [
        {
          "output_type": "execute_result",
          "data": {
            "text/plain": [
              "array([[ 0.08919758,  0.11666104, -0.24564835, ...,  0.0153104 ,\n",
              "         0.25977894, -0.47386909],\n",
              "       [-0.4034786 , -0.03824531, -0.24564835, ..., -0.55137007,\n",
              "         0.04433799, -0.47386909],\n",
              "       [-0.9665371 , -0.03824531, -0.24564835, ..., -0.76387524,\n",
              "         0.11615164, -0.47386909],\n",
              "       ...,\n",
              "       [ 0.65225607,  0.34902058, -0.24564835, ...,  0.36948569,\n",
              "         0.4752199 , -0.47386909],\n",
              "       [ 0.30034451,  0.2715674 , -0.24564835, ...,  0.15698051,\n",
              "         0.40340625, -0.47386909],\n",
              "       [ 0.72263838,  0.42647376, -0.24564835, ...,  0.29865063,\n",
              "         0.40340625, -0.47386909]])"
            ]
          },
          "metadata": {},
          "execution_count": 84
        }
      ]
    },
    {
      "cell_type": "code",
      "source": [
        "weather_df_new = pd.DataFrame(scaled_features, columns = weather_df.columns[:-1])"
      ],
      "metadata": {
        "id": "D5RpZS-lm9QS"
      },
      "execution_count": 85,
      "outputs": []
    },
    {
      "cell_type": "code",
      "source": [
        "weather_df_new"
      ],
      "metadata": {
        "colab": {
          "base_uri": "https://localhost:8080/",
          "height": 423
        },
        "id": "jCKPyG2XnWAS",
        "outputId": "81fbaa15-74fc-499d-85b9-409806f23fc7"
      },
      "execution_count": 86,
      "outputs": [
        {
          "output_type": "execute_result",
          "data": {
            "text/plain": [
              "      min_temp  max_temp  rainfall  wind_speed9am  wind_speed3pm  humidity9am  \\\n",
              "0     0.089198  0.116661 -0.245648      -0.173563       0.698058     1.253510   \n",
              "1    -0.403479 -0.038245 -0.245648       0.044098      -0.120129     1.064049   \n",
              "2    -0.966537 -0.038245 -0.245648      -1.914853      -0.120129    -0.641103   \n",
              "3    -0.755390 -0.270605 -0.245648      -0.391225      -0.733768     1.064049   \n",
              "4    -0.825772 -0.812777 -0.245648       1.567726       2.538977    -1.777871   \n",
              "...        ...       ...       ...            ...            ...          ...   \n",
              "3616  0.370727  0.116661 -0.245648      -0.826547       1.107151     1.064049   \n",
              "3617  0.652256  0.349021 -0.245648       1.132404       0.902604     0.243050   \n",
              "3618  0.652256  0.349021 -0.245648       0.044098       0.288964     0.937741   \n",
              "3619  0.300345  0.271567 -0.245648      -0.173563      -0.324675     0.874587   \n",
              "3620  0.722638  0.426474 -0.245648       0.261759       1.311697     1.064049   \n",
              "\n",
              "      humidity3pm  pressure9am  pressure3pm   temp9am   temp3pm  rain_today  \n",
              "0       -0.020405    -1.491242    -1.852883  0.015310  0.259779   -0.473869  \n",
              "1       -1.762262    -0.639065    -0.336564 -0.551370  0.044338   -0.473869  \n",
              "2       -1.653396     0.334851     0.232055 -0.763875  0.116152   -0.473869  \n",
              "3        0.306193     0.273981     0.168875 -0.409700 -0.171103   -0.473869  \n",
              "4       -1.816695     1.126158     1.179755 -0.976380 -0.673799   -0.473869  \n",
              "...           ...          ...          ...       ...       ...         ...  \n",
              "3616     0.197327    -0.760805    -0.968364  0.015310  0.187965   -0.473869  \n",
              "3617    -0.074838    -1.856460    -1.979243  0.369486  0.475220   -0.473869  \n",
              "3618     0.088461    -1.795590    -1.726523  0.369486  0.475220   -0.473869  \n",
              "3619     0.197327    -0.943414    -0.968364  0.156981  0.403406   -0.473869  \n",
              "3620     0.197327    -1.186893    -1.473803  0.298651  0.403406   -0.473869  \n",
              "\n",
              "[3621 rows x 12 columns]"
            ],
            "text/html": [
              "\n",
              "  <div id=\"df-c59f4209-ddb3-4df3-9d6a-1ea6a8ad992e\" class=\"colab-df-container\">\n",
              "    <div>\n",
              "<style scoped>\n",
              "    .dataframe tbody tr th:only-of-type {\n",
              "        vertical-align: middle;\n",
              "    }\n",
              "\n",
              "    .dataframe tbody tr th {\n",
              "        vertical-align: top;\n",
              "    }\n",
              "\n",
              "    .dataframe thead th {\n",
              "        text-align: right;\n",
              "    }\n",
              "</style>\n",
              "<table border=\"1\" class=\"dataframe\">\n",
              "  <thead>\n",
              "    <tr style=\"text-align: right;\">\n",
              "      <th></th>\n",
              "      <th>min_temp</th>\n",
              "      <th>max_temp</th>\n",
              "      <th>rainfall</th>\n",
              "      <th>wind_speed9am</th>\n",
              "      <th>wind_speed3pm</th>\n",
              "      <th>humidity9am</th>\n",
              "      <th>humidity3pm</th>\n",
              "      <th>pressure9am</th>\n",
              "      <th>pressure3pm</th>\n",
              "      <th>temp9am</th>\n",
              "      <th>temp3pm</th>\n",
              "      <th>rain_today</th>\n",
              "    </tr>\n",
              "  </thead>\n",
              "  <tbody>\n",
              "    <tr>\n",
              "      <th>0</th>\n",
              "      <td>0.089198</td>\n",
              "      <td>0.116661</td>\n",
              "      <td>-0.245648</td>\n",
              "      <td>-0.173563</td>\n",
              "      <td>0.698058</td>\n",
              "      <td>1.253510</td>\n",
              "      <td>-0.020405</td>\n",
              "      <td>-1.491242</td>\n",
              "      <td>-1.852883</td>\n",
              "      <td>0.015310</td>\n",
              "      <td>0.259779</td>\n",
              "      <td>-0.473869</td>\n",
              "    </tr>\n",
              "    <tr>\n",
              "      <th>1</th>\n",
              "      <td>-0.403479</td>\n",
              "      <td>-0.038245</td>\n",
              "      <td>-0.245648</td>\n",
              "      <td>0.044098</td>\n",
              "      <td>-0.120129</td>\n",
              "      <td>1.064049</td>\n",
              "      <td>-1.762262</td>\n",
              "      <td>-0.639065</td>\n",
              "      <td>-0.336564</td>\n",
              "      <td>-0.551370</td>\n",
              "      <td>0.044338</td>\n",
              "      <td>-0.473869</td>\n",
              "    </tr>\n",
              "    <tr>\n",
              "      <th>2</th>\n",
              "      <td>-0.966537</td>\n",
              "      <td>-0.038245</td>\n",
              "      <td>-0.245648</td>\n",
              "      <td>-1.914853</td>\n",
              "      <td>-0.120129</td>\n",
              "      <td>-0.641103</td>\n",
              "      <td>-1.653396</td>\n",
              "      <td>0.334851</td>\n",
              "      <td>0.232055</td>\n",
              "      <td>-0.763875</td>\n",
              "      <td>0.116152</td>\n",
              "      <td>-0.473869</td>\n",
              "    </tr>\n",
              "    <tr>\n",
              "      <th>3</th>\n",
              "      <td>-0.755390</td>\n",
              "      <td>-0.270605</td>\n",
              "      <td>-0.245648</td>\n",
              "      <td>-0.391225</td>\n",
              "      <td>-0.733768</td>\n",
              "      <td>1.064049</td>\n",
              "      <td>0.306193</td>\n",
              "      <td>0.273981</td>\n",
              "      <td>0.168875</td>\n",
              "      <td>-0.409700</td>\n",
              "      <td>-0.171103</td>\n",
              "      <td>-0.473869</td>\n",
              "    </tr>\n",
              "    <tr>\n",
              "      <th>4</th>\n",
              "      <td>-0.825772</td>\n",
              "      <td>-0.812777</td>\n",
              "      <td>-0.245648</td>\n",
              "      <td>1.567726</td>\n",
              "      <td>2.538977</td>\n",
              "      <td>-1.777871</td>\n",
              "      <td>-1.816695</td>\n",
              "      <td>1.126158</td>\n",
              "      <td>1.179755</td>\n",
              "      <td>-0.976380</td>\n",
              "      <td>-0.673799</td>\n",
              "      <td>-0.473869</td>\n",
              "    </tr>\n",
              "    <tr>\n",
              "      <th>...</th>\n",
              "      <td>...</td>\n",
              "      <td>...</td>\n",
              "      <td>...</td>\n",
              "      <td>...</td>\n",
              "      <td>...</td>\n",
              "      <td>...</td>\n",
              "      <td>...</td>\n",
              "      <td>...</td>\n",
              "      <td>...</td>\n",
              "      <td>...</td>\n",
              "      <td>...</td>\n",
              "      <td>...</td>\n",
              "    </tr>\n",
              "    <tr>\n",
              "      <th>3616</th>\n",
              "      <td>0.370727</td>\n",
              "      <td>0.116661</td>\n",
              "      <td>-0.245648</td>\n",
              "      <td>-0.826547</td>\n",
              "      <td>1.107151</td>\n",
              "      <td>1.064049</td>\n",
              "      <td>0.197327</td>\n",
              "      <td>-0.760805</td>\n",
              "      <td>-0.968364</td>\n",
              "      <td>0.015310</td>\n",
              "      <td>0.187965</td>\n",
              "      <td>-0.473869</td>\n",
              "    </tr>\n",
              "    <tr>\n",
              "      <th>3617</th>\n",
              "      <td>0.652256</td>\n",
              "      <td>0.349021</td>\n",
              "      <td>-0.245648</td>\n",
              "      <td>1.132404</td>\n",
              "      <td>0.902604</td>\n",
              "      <td>0.243050</td>\n",
              "      <td>-0.074838</td>\n",
              "      <td>-1.856460</td>\n",
              "      <td>-1.979243</td>\n",
              "      <td>0.369486</td>\n",
              "      <td>0.475220</td>\n",
              "      <td>-0.473869</td>\n",
              "    </tr>\n",
              "    <tr>\n",
              "      <th>3618</th>\n",
              "      <td>0.652256</td>\n",
              "      <td>0.349021</td>\n",
              "      <td>-0.245648</td>\n",
              "      <td>0.044098</td>\n",
              "      <td>0.288964</td>\n",
              "      <td>0.937741</td>\n",
              "      <td>0.088461</td>\n",
              "      <td>-1.795590</td>\n",
              "      <td>-1.726523</td>\n",
              "      <td>0.369486</td>\n",
              "      <td>0.475220</td>\n",
              "      <td>-0.473869</td>\n",
              "    </tr>\n",
              "    <tr>\n",
              "      <th>3619</th>\n",
              "      <td>0.300345</td>\n",
              "      <td>0.271567</td>\n",
              "      <td>-0.245648</td>\n",
              "      <td>-0.173563</td>\n",
              "      <td>-0.324675</td>\n",
              "      <td>0.874587</td>\n",
              "      <td>0.197327</td>\n",
              "      <td>-0.943414</td>\n",
              "      <td>-0.968364</td>\n",
              "      <td>0.156981</td>\n",
              "      <td>0.403406</td>\n",
              "      <td>-0.473869</td>\n",
              "    </tr>\n",
              "    <tr>\n",
              "      <th>3620</th>\n",
              "      <td>0.722638</td>\n",
              "      <td>0.426474</td>\n",
              "      <td>-0.245648</td>\n",
              "      <td>0.261759</td>\n",
              "      <td>1.311697</td>\n",
              "      <td>1.064049</td>\n",
              "      <td>0.197327</td>\n",
              "      <td>-1.186893</td>\n",
              "      <td>-1.473803</td>\n",
              "      <td>0.298651</td>\n",
              "      <td>0.403406</td>\n",
              "      <td>-0.473869</td>\n",
              "    </tr>\n",
              "  </tbody>\n",
              "</table>\n",
              "<p>3621 rows × 12 columns</p>\n",
              "</div>\n",
              "    <div class=\"colab-df-buttons\">\n",
              "\n",
              "  <div class=\"colab-df-container\">\n",
              "    <button class=\"colab-df-convert\" onclick=\"convertToInteractive('df-c59f4209-ddb3-4df3-9d6a-1ea6a8ad992e')\"\n",
              "            title=\"Convert this dataframe to an interactive table.\"\n",
              "            style=\"display:none;\">\n",
              "\n",
              "  <svg xmlns=\"http://www.w3.org/2000/svg\" height=\"24px\" viewBox=\"0 -960 960 960\">\n",
              "    <path d=\"M120-120v-720h720v720H120Zm60-500h600v-160H180v160Zm220 220h160v-160H400v160Zm0 220h160v-160H400v160ZM180-400h160v-160H180v160Zm440 0h160v-160H620v160ZM180-180h160v-160H180v160Zm440 0h160v-160H620v160Z\"/>\n",
              "  </svg>\n",
              "    </button>\n",
              "\n",
              "  <style>\n",
              "    .colab-df-container {\n",
              "      display:flex;\n",
              "      gap: 12px;\n",
              "    }\n",
              "\n",
              "    .colab-df-convert {\n",
              "      background-color: #E8F0FE;\n",
              "      border: none;\n",
              "      border-radius: 50%;\n",
              "      cursor: pointer;\n",
              "      display: none;\n",
              "      fill: #1967D2;\n",
              "      height: 32px;\n",
              "      padding: 0 0 0 0;\n",
              "      width: 32px;\n",
              "    }\n",
              "\n",
              "    .colab-df-convert:hover {\n",
              "      background-color: #E2EBFA;\n",
              "      box-shadow: 0px 1px 2px rgba(60, 64, 67, 0.3), 0px 1px 3px 1px rgba(60, 64, 67, 0.15);\n",
              "      fill: #174EA6;\n",
              "    }\n",
              "\n",
              "    .colab-df-buttons div {\n",
              "      margin-bottom: 4px;\n",
              "    }\n",
              "\n",
              "    [theme=dark] .colab-df-convert {\n",
              "      background-color: #3B4455;\n",
              "      fill: #D2E3FC;\n",
              "    }\n",
              "\n",
              "    [theme=dark] .colab-df-convert:hover {\n",
              "      background-color: #434B5C;\n",
              "      box-shadow: 0px 1px 3px 1px rgba(0, 0, 0, 0.15);\n",
              "      filter: drop-shadow(0px 1px 2px rgba(0, 0, 0, 0.3));\n",
              "      fill: #FFFFFF;\n",
              "    }\n",
              "  </style>\n",
              "\n",
              "    <script>\n",
              "      const buttonEl =\n",
              "        document.querySelector('#df-c59f4209-ddb3-4df3-9d6a-1ea6a8ad992e button.colab-df-convert');\n",
              "      buttonEl.style.display =\n",
              "        google.colab.kernel.accessAllowed ? 'block' : 'none';\n",
              "\n",
              "      async function convertToInteractive(key) {\n",
              "        const element = document.querySelector('#df-c59f4209-ddb3-4df3-9d6a-1ea6a8ad992e');\n",
              "        const dataTable =\n",
              "          await google.colab.kernel.invokeFunction('convertToInteractive',\n",
              "                                                    [key], {});\n",
              "        if (!dataTable) return;\n",
              "\n",
              "        const docLinkHtml = 'Like what you see? Visit the ' +\n",
              "          '<a target=\"_blank\" href=https://colab.research.google.com/notebooks/data_table.ipynb>data table notebook</a>'\n",
              "          + ' to learn more about interactive tables.';\n",
              "        element.innerHTML = '';\n",
              "        dataTable['output_type'] = 'display_data';\n",
              "        await google.colab.output.renderOutput(dataTable, element);\n",
              "        const docLink = document.createElement('div');\n",
              "        docLink.innerHTML = docLinkHtml;\n",
              "        element.appendChild(docLink);\n",
              "      }\n",
              "    </script>\n",
              "  </div>\n",
              "\n",
              "\n",
              "<div id=\"df-cc555ff0-70f7-41c6-a84a-af534a47f9d9\">\n",
              "  <button class=\"colab-df-quickchart\" onclick=\"quickchart('df-cc555ff0-70f7-41c6-a84a-af534a47f9d9')\"\n",
              "            title=\"Suggest charts\"\n",
              "            style=\"display:none;\">\n",
              "\n",
              "<svg xmlns=\"http://www.w3.org/2000/svg\" height=\"24px\"viewBox=\"0 0 24 24\"\n",
              "     width=\"24px\">\n",
              "    <g>\n",
              "        <path d=\"M19 3H5c-1.1 0-2 .9-2 2v14c0 1.1.9 2 2 2h14c1.1 0 2-.9 2-2V5c0-1.1-.9-2-2-2zM9 17H7v-7h2v7zm4 0h-2V7h2v10zm4 0h-2v-4h2v4z\"/>\n",
              "    </g>\n",
              "</svg>\n",
              "  </button>\n",
              "\n",
              "<style>\n",
              "  .colab-df-quickchart {\n",
              "      --bg-color: #E8F0FE;\n",
              "      --fill-color: #1967D2;\n",
              "      --hover-bg-color: #E2EBFA;\n",
              "      --hover-fill-color: #174EA6;\n",
              "      --disabled-fill-color: #AAA;\n",
              "      --disabled-bg-color: #DDD;\n",
              "  }\n",
              "\n",
              "  [theme=dark] .colab-df-quickchart {\n",
              "      --bg-color: #3B4455;\n",
              "      --fill-color: #D2E3FC;\n",
              "      --hover-bg-color: #434B5C;\n",
              "      --hover-fill-color: #FFFFFF;\n",
              "      --disabled-bg-color: #3B4455;\n",
              "      --disabled-fill-color: #666;\n",
              "  }\n",
              "\n",
              "  .colab-df-quickchart {\n",
              "    background-color: var(--bg-color);\n",
              "    border: none;\n",
              "    border-radius: 50%;\n",
              "    cursor: pointer;\n",
              "    display: none;\n",
              "    fill: var(--fill-color);\n",
              "    height: 32px;\n",
              "    padding: 0;\n",
              "    width: 32px;\n",
              "  }\n",
              "\n",
              "  .colab-df-quickchart:hover {\n",
              "    background-color: var(--hover-bg-color);\n",
              "    box-shadow: 0 1px 2px rgba(60, 64, 67, 0.3), 0 1px 3px 1px rgba(60, 64, 67, 0.15);\n",
              "    fill: var(--button-hover-fill-color);\n",
              "  }\n",
              "\n",
              "  .colab-df-quickchart-complete:disabled,\n",
              "  .colab-df-quickchart-complete:disabled:hover {\n",
              "    background-color: var(--disabled-bg-color);\n",
              "    fill: var(--disabled-fill-color);\n",
              "    box-shadow: none;\n",
              "  }\n",
              "\n",
              "  .colab-df-spinner {\n",
              "    border: 2px solid var(--fill-color);\n",
              "    border-color: transparent;\n",
              "    border-bottom-color: var(--fill-color);\n",
              "    animation:\n",
              "      spin 1s steps(1) infinite;\n",
              "  }\n",
              "\n",
              "  @keyframes spin {\n",
              "    0% {\n",
              "      border-color: transparent;\n",
              "      border-bottom-color: var(--fill-color);\n",
              "      border-left-color: var(--fill-color);\n",
              "    }\n",
              "    20% {\n",
              "      border-color: transparent;\n",
              "      border-left-color: var(--fill-color);\n",
              "      border-top-color: var(--fill-color);\n",
              "    }\n",
              "    30% {\n",
              "      border-color: transparent;\n",
              "      border-left-color: var(--fill-color);\n",
              "      border-top-color: var(--fill-color);\n",
              "      border-right-color: var(--fill-color);\n",
              "    }\n",
              "    40% {\n",
              "      border-color: transparent;\n",
              "      border-right-color: var(--fill-color);\n",
              "      border-top-color: var(--fill-color);\n",
              "    }\n",
              "    60% {\n",
              "      border-color: transparent;\n",
              "      border-right-color: var(--fill-color);\n",
              "    }\n",
              "    80% {\n",
              "      border-color: transparent;\n",
              "      border-right-color: var(--fill-color);\n",
              "      border-bottom-color: var(--fill-color);\n",
              "    }\n",
              "    90% {\n",
              "      border-color: transparent;\n",
              "      border-bottom-color: var(--fill-color);\n",
              "    }\n",
              "  }\n",
              "</style>\n",
              "\n",
              "  <script>\n",
              "    async function quickchart(key) {\n",
              "      const quickchartButtonEl =\n",
              "        document.querySelector('#' + key + ' button');\n",
              "      quickchartButtonEl.disabled = true;  // To prevent multiple clicks.\n",
              "      quickchartButtonEl.classList.add('colab-df-spinner');\n",
              "      try {\n",
              "        const charts = await google.colab.kernel.invokeFunction(\n",
              "            'suggestCharts', [key], {});\n",
              "      } catch (error) {\n",
              "        console.error('Error during call to suggestCharts:', error);\n",
              "      }\n",
              "      quickchartButtonEl.classList.remove('colab-df-spinner');\n",
              "      quickchartButtonEl.classList.add('colab-df-quickchart-complete');\n",
              "    }\n",
              "    (() => {\n",
              "      let quickchartButtonEl =\n",
              "        document.querySelector('#df-cc555ff0-70f7-41c6-a84a-af534a47f9d9 button');\n",
              "      quickchartButtonEl.style.display =\n",
              "        google.colab.kernel.accessAllowed ? 'block' : 'none';\n",
              "    })();\n",
              "  </script>\n",
              "</div>\n",
              "    </div>\n",
              "  </div>\n"
            ]
          },
          "metadata": {},
          "execution_count": 86
        }
      ]
    },
    {
      "cell_type": "markdown",
      "source": [
        "# **Splitting the Data into X & Y**\n"
      ],
      "metadata": {
        "id": "kLXOMpNkolkp"
      }
    },
    {
      "cell_type": "code",
      "source": [
        "x = weather_df_new"
      ],
      "metadata": {
        "id": "Ek2WRS2qncT5"
      },
      "execution_count": 87,
      "outputs": []
    },
    {
      "cell_type": "code",
      "source": [
        "y = weather_df['rain_tomorrow']"
      ],
      "metadata": {
        "id": "eut2jZqvnnxg"
      },
      "execution_count": 88,
      "outputs": []
    },
    {
      "cell_type": "code",
      "source": [
        "from sklearn.model_selection import train_test_split"
      ],
      "metadata": {
        "id": "2T5VtvQenseH"
      },
      "execution_count": 89,
      "outputs": []
    },
    {
      "cell_type": "code",
      "source": [
        "X_train, X_test, Y_train, Y_test =train_test_split(x,y,test_size=0.3)"
      ],
      "metadata": {
        "id": "yFWAMOwTnxnd"
      },
      "execution_count": 90,
      "outputs": []
    },
    {
      "cell_type": "markdown",
      "source": [
        "# **Training the Logistic Regression Model**"
      ],
      "metadata": {
        "id": "bmyE6mIOo8BT"
      }
    },
    {
      "cell_type": "code",
      "source": [
        "logmodel = LogisticRegression()"
      ],
      "metadata": {
        "id": "dx6Q4vqpn3eE"
      },
      "execution_count": 91,
      "outputs": []
    },
    {
      "cell_type": "code",
      "source": [
        "# Training the Logistic Regression model using Training data\n",
        "\n",
        "logmodel.fit(X_train,Y_train)"
      ],
      "metadata": {
        "colab": {
          "base_uri": "https://localhost:8080/",
          "height": 74
        },
        "id": "R9Bg0DIWn4qm",
        "outputId": "a8d33f18-9e0d-424c-ba3d-2cfb4c65fbec"
      },
      "execution_count": 92,
      "outputs": [
        {
          "output_type": "execute_result",
          "data": {
            "text/plain": [
              "LogisticRegression()"
            ],
            "text/html": [
              "<style>#sk-container-id-4 {color: black;background-color: white;}#sk-container-id-4 pre{padding: 0;}#sk-container-id-4 div.sk-toggleable {background-color: white;}#sk-container-id-4 label.sk-toggleable__label {cursor: pointer;display: block;width: 100%;margin-bottom: 0;padding: 0.3em;box-sizing: border-box;text-align: center;}#sk-container-id-4 label.sk-toggleable__label-arrow:before {content: \"▸\";float: left;margin-right: 0.25em;color: #696969;}#sk-container-id-4 label.sk-toggleable__label-arrow:hover:before {color: black;}#sk-container-id-4 div.sk-estimator:hover label.sk-toggleable__label-arrow:before {color: black;}#sk-container-id-4 div.sk-toggleable__content {max-height: 0;max-width: 0;overflow: hidden;text-align: left;background-color: #f0f8ff;}#sk-container-id-4 div.sk-toggleable__content pre {margin: 0.2em;color: black;border-radius: 0.25em;background-color: #f0f8ff;}#sk-container-id-4 input.sk-toggleable__control:checked~div.sk-toggleable__content {max-height: 200px;max-width: 100%;overflow: auto;}#sk-container-id-4 input.sk-toggleable__control:checked~label.sk-toggleable__label-arrow:before {content: \"▾\";}#sk-container-id-4 div.sk-estimator input.sk-toggleable__control:checked~label.sk-toggleable__label {background-color: #d4ebff;}#sk-container-id-4 div.sk-label input.sk-toggleable__control:checked~label.sk-toggleable__label {background-color: #d4ebff;}#sk-container-id-4 input.sk-hidden--visually {border: 0;clip: rect(1px 1px 1px 1px);clip: rect(1px, 1px, 1px, 1px);height: 1px;margin: -1px;overflow: hidden;padding: 0;position: absolute;width: 1px;}#sk-container-id-4 div.sk-estimator {font-family: monospace;background-color: #f0f8ff;border: 1px dotted black;border-radius: 0.25em;box-sizing: border-box;margin-bottom: 0.5em;}#sk-container-id-4 div.sk-estimator:hover {background-color: #d4ebff;}#sk-container-id-4 div.sk-parallel-item::after {content: \"\";width: 100%;border-bottom: 1px solid gray;flex-grow: 1;}#sk-container-id-4 div.sk-label:hover label.sk-toggleable__label {background-color: #d4ebff;}#sk-container-id-4 div.sk-serial::before {content: \"\";position: absolute;border-left: 1px solid gray;box-sizing: border-box;top: 0;bottom: 0;left: 50%;z-index: 0;}#sk-container-id-4 div.sk-serial {display: flex;flex-direction: column;align-items: center;background-color: white;padding-right: 0.2em;padding-left: 0.2em;position: relative;}#sk-container-id-4 div.sk-item {position: relative;z-index: 1;}#sk-container-id-4 div.sk-parallel {display: flex;align-items: stretch;justify-content: center;background-color: white;position: relative;}#sk-container-id-4 div.sk-item::before, #sk-container-id-4 div.sk-parallel-item::before {content: \"\";position: absolute;border-left: 1px solid gray;box-sizing: border-box;top: 0;bottom: 0;left: 50%;z-index: -1;}#sk-container-id-4 div.sk-parallel-item {display: flex;flex-direction: column;z-index: 1;position: relative;background-color: white;}#sk-container-id-4 div.sk-parallel-item:first-child::after {align-self: flex-end;width: 50%;}#sk-container-id-4 div.sk-parallel-item:last-child::after {align-self: flex-start;width: 50%;}#sk-container-id-4 div.sk-parallel-item:only-child::after {width: 0;}#sk-container-id-4 div.sk-dashed-wrapped {border: 1px dashed gray;margin: 0 0.4em 0.5em 0.4em;box-sizing: border-box;padding-bottom: 0.4em;background-color: white;}#sk-container-id-4 div.sk-label label {font-family: monospace;font-weight: bold;display: inline-block;line-height: 1.2em;}#sk-container-id-4 div.sk-label-container {text-align: center;}#sk-container-id-4 div.sk-container {/* jupyter's `normalize.less` sets `[hidden] { display: none; }` but bootstrap.min.css set `[hidden] { display: none !important; }` so we also need the `!important` here to be able to override the default hidden behavior on the sphinx rendered scikit-learn.org. See: https://github.com/scikit-learn/scikit-learn/issues/21755 */display: inline-block !important;position: relative;}#sk-container-id-4 div.sk-text-repr-fallback {display: none;}</style><div id=\"sk-container-id-4\" class=\"sk-top-container\"><div class=\"sk-text-repr-fallback\"><pre>LogisticRegression()</pre><b>In a Jupyter environment, please rerun this cell to show the HTML representation or trust the notebook. <br />On GitHub, the HTML representation is unable to render, please try loading this page with nbviewer.org.</b></div><div class=\"sk-container\" hidden><div class=\"sk-item\"><div class=\"sk-estimator sk-toggleable\"><input class=\"sk-toggleable__control sk-hidden--visually\" id=\"sk-estimator-id-4\" type=\"checkbox\" checked><label for=\"sk-estimator-id-4\" class=\"sk-toggleable__label sk-toggleable__label-arrow\">LogisticRegression</label><div class=\"sk-toggleable__content\"><pre>LogisticRegression()</pre></div></div></div></div></div>"
            ]
          },
          "metadata": {},
          "execution_count": 92
        }
      ]
    },
    {
      "cell_type": "code",
      "source": [
        "# Accuracy score using training data\n",
        "\n",
        "X_train_prediction = logmodel.predict(X_train)\n",
        "training_data_accuracy = accuracy_score(X_train_prediction, Y_train)"
      ],
      "metadata": {
        "id": "IG-w1AoVn6E3"
      },
      "execution_count": 93,
      "outputs": []
    },
    {
      "cell_type": "code",
      "source": [
        "training_data_accuracy_percent = round(training_data_accuracy*100, 2)"
      ],
      "metadata": {
        "id": "r1GB8lfoPyYe"
      },
      "execution_count": 94,
      "outputs": []
    },
    {
      "cell_type": "code",
      "source": [
        "print('Accuracy Score of Training data:', training_data_accuracy_percent)"
      ],
      "metadata": {
        "colab": {
          "base_uri": "https://localhost:8080/"
        },
        "id": "CEt7abbiP2XQ",
        "outputId": "705611c9-9ccf-4cef-a6ff-6d3527c7430d"
      },
      "execution_count": 95,
      "outputs": [
        {
          "output_type": "stream",
          "name": "stdout",
          "text": [
            "Accuracy Score of Training data: 81.53\n"
          ]
        }
      ]
    },
    {
      "cell_type": "code",
      "source": [
        "# Accuracy score using testing data\n",
        "\n",
        "X_test_prediction = logmodel.predict(X_test)\n",
        "testing_data_accuracy = accuracy_score(X_test_prediction, Y_test)"
      ],
      "metadata": {
        "id": "cLVYDo3jP4p_"
      },
      "execution_count": 96,
      "outputs": []
    },
    {
      "cell_type": "code",
      "source": [
        "testing_data_accuracy_percent = round(testing_data_accuracy*100, 2)"
      ],
      "metadata": {
        "id": "ypIWrhZsQEND"
      },
      "execution_count": 97,
      "outputs": []
    },
    {
      "cell_type": "code",
      "source": [
        "print('Accuracy Score of Training data:', testing_data_accuracy_percent)"
      ],
      "metadata": {
        "colab": {
          "base_uri": "https://localhost:8080/"
        },
        "id": "pvJqiNhmQGGg",
        "outputId": "073ff76b-4014-4c8b-fb1e-1db61090016e"
      },
      "execution_count": 98,
      "outputs": [
        {
          "output_type": "stream",
          "name": "stdout",
          "text": [
            "Accuracy Score of Training data: 82.06\n"
          ]
        }
      ]
    },
    {
      "cell_type": "markdown",
      "source": [
        "# **Checking the Accuracy**"
      ],
      "metadata": {
        "id": "mQWPa82EpEmA"
      }
    },
    {
      "cell_type": "code",
      "source": [
        "from sklearn.metrics import classification_report"
      ],
      "metadata": {
        "id": "If3CoNWtn7sB"
      },
      "execution_count": 99,
      "outputs": []
    },
    {
      "cell_type": "code",
      "source": [
        "print(classification_report(Y_test,X_test_prediction))"
      ],
      "metadata": {
        "colab": {
          "base_uri": "https://localhost:8080/"
        },
        "id": "H7CNL-kvn9X6",
        "outputId": "58a774b1-9f2e-475e-ead3-b34d1388b9ce"
      },
      "execution_count": 100,
      "outputs": [
        {
          "output_type": "stream",
          "name": "stdout",
          "text": [
            "              precision    recall  f1-score   support\n",
            "\n",
            "           0       0.83      0.98      0.90       895\n",
            "           1       0.45      0.08      0.13       192\n",
            "\n",
            "    accuracy                           0.82      1087\n",
            "   macro avg       0.64      0.53      0.52      1087\n",
            "weighted avg       0.77      0.82      0.76      1087\n",
            "\n"
          ]
        }
      ]
    }
  ]
}